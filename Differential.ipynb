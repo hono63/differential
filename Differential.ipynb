{
 "cells": [
  {
   "cell_type": "markdown",
   "metadata": {},
   "source": [
    "# 微分計算\n",
    "## 自由落下\n",
    "\n",
    " \\begin{align}\n",
    " F [N] = ma [kg \\cdot m/s^2]  \\\\\n",
    " F = m \\frac{d^2 r}{dt^2}  \\\\\n",
    " r = \\frac{1}{2} a_0t^2 + v_0t + r_0  \\\\\n",
    " (a_0 = \\frac{F}{m})  \\\\\n",
    "  F\\Delta t = mat + v  \\\\\n",
    " \\end{align}\n"
   ]
  },
  {
   "cell_type": "code",
   "execution_count": 3,
   "metadata": {
    "collapsed": true
   },
   "outputs": [],
   "source": [
    "import math"
   ]
  },
  {
   "cell_type": "code",
   "execution_count": 4,
   "metadata": {
    "collapsed": false,
    "scrolled": true
   },
   "outputs": [
    {
     "name": "stdout",
     "output_type": "stream",
     "text": [
      "Populating the interactive namespace from numpy and matplotlib\n"
     ]
    }
   ],
   "source": [
    "%pylab inline"
   ]
  },
  {
   "cell_type": "code",
   "execution_count": 5,
   "metadata": {
    "collapsed": true
   },
   "outputs": [],
   "source": [
    "m = 1\n",
    "g = 9.8\n",
    "dt = 0.01"
   ]
  },
  {
   "cell_type": "markdown",
   "metadata": {},
   "source": [
    " \\begin{align}\n",
    " v = -gt \\\\\n",
    " v(t+dt) = v(t) + a(=\\frac{dv}{dt}) \\cdot dt \\\\\n",
    " x = - \\frac{1}{2} gt^2 + 0 \\cdot t + 0 \\\\\n",
    " x(t+dt) = x(t) + v(=\\frac{dx}{dt}) \\cdot dt \\\\\n",
    " (g = 9.8)\n",
    " \\end{align}"
   ]
  },
  {
   "cell_type": "code",
   "execution_count": 6,
   "metadata": {
    "collapsed": false
   },
   "outputs": [
    {
     "name": "stdout",
     "output_type": "stream",
     "text": [
      "t:0.20 v:-1.96 x:-0.21, ΔX:-0.01\n",
      "t:0.40 v:-3.92 x:-0.80, ΔX:-0.02\n",
      "t:0.60 v:-5.88 x:-1.79, ΔX:-0.03\n",
      "t:0.80 v:-7.84 x:-3.18, ΔX:-0.04\n",
      "t:1.00 v:-9.80 x:-4.95, ΔX:-0.05\n",
      "t:1.20 v:-11.76 x:-7.11, ΔX:-0.06\n",
      "t:1.40 v:-13.72 x:-9.67, ΔX:-0.07\n",
      "t:1.60 v:-15.68 x:-12.62, ΔX:-0.08\n",
      "t:1.80 v:-17.64 x:-15.96, ΔX:-0.09\n"
     ]
    }
   ],
   "source": [
    "t = 0.0\n",
    "x = 0.0\n",
    "v = 0.0\n",
    "graphx = []\n",
    "grapht = []\n",
    "for i in range(1,1000):\n",
    "    if i % 5 != 0:\n",
    "        continue\n",
    "    t = t + dt\n",
    "    v = v - m*g*dt\n",
    "    x = x + v*dt\n",
    "    grapht.append(t)\n",
    "    graphx.append(x)\n",
    "    if i % 100 == 0:\n",
    "        print(\"t:{0:.2f} v:{1:.2f} x:{2:.2f}, ΔX:{3:.2f}\".format(t, v, x, x-(-g*t*t/2)))"
   ]
  },
  {
   "cell_type": "code",
   "execution_count": 7,
   "metadata": {
    "collapsed": false,
    "scrolled": true
   },
   "outputs": [
    {
     "data": {
      "text/plain": [
       "[<matplotlib.lines.Line2D at 0x10f20d748>]"
      ]
     },
     "execution_count": 7,
     "metadata": {},
     "output_type": "execute_result"
    },
    {
     "data": {
      "image/png": "[encoded data removed]",
      "text/plain": [
       "<matplotlib.figure.Figure at 0x10f1861d0>"
      ]
     },
     "metadata": {},
     "output_type": "display_data"
    }
   ],
   "source": [
    "plt.plot(grapht, graphx)"
   ]
  },
  {
   "cell_type": "markdown",
   "metadata": {},
   "source": [
    "### 空気抵抗の有る場合\n",
    "\\begin{align}\n",
    "m\\frac{d^2x}{dt^2} = - mg - \\gamma v \\\\\n",
    "v(t+dt) = v(t) + (-g-\\frac{\\gamma}{m} v(t)) \\cdot dt \\\\\n",
    "\\end{align}"
   ]
  },
  {
   "cell_type": "code",
   "execution_count": 8,
   "metadata": {
    "collapsed": false
   },
   "outputs": [
    {
     "name": "stdout",
     "output_type": "stream",
     "text": [
      "t:1.00 v:-9.33 x:-4.79, ΔX:1.04\n",
      "t:2.00 v:-17.77 x:-18.45, ΔX:4.70\n",
      "t:3.00 v:-25.41 x:-40.15, ΔX:11.58\n",
      "t:4.00 v:-32.32 x:-69.11, ΔX:22.22\n",
      "t:5.00 v:-38.57 x:-104.64, ΔX:37.15\n",
      "t:6.00 v:-44.23 x:-146.12, ΔX:56.82\n",
      "t:7.00 v:-49.35 x:-192.98, ΔX:81.67\n",
      "t:8.00 v:-53.98 x:-244.71, ΔX:112.08\n",
      "t:9.00 v:-58.17 x:-300.84, ΔX:148.42\n"
     ]
    }
   ],
   "source": [
    "gamma = 0.1\n",
    "t = 0.0\n",
    "x = 0.0\n",
    "v = 0.0\n",
    "graphv = []\n",
    "grapht = []\n",
    "for i in range(1,1000):\n",
    "    if i % 1 != 0:\n",
    "        continue\n",
    "    t = t + dt\n",
    "    v = v + (-m*g - gamma*v)*dt\n",
    "    x = x + v*dt\n",
    "    grapht.append(t)\n",
    "    graphv.append(v)\n",
    "    if i % 100 == 0:\n",
    "        print(\"t:{0:.2f} v:{1:.2f} x:{2:.2f}, ΔX:{3:.2f}\".format(t, v, x, x-(-g*t*t/2+gamma/m*v*t)))"
   ]
  },
  {
   "cell_type": "code",
   "execution_count": 9,
   "metadata": {
    "collapsed": false,
    "scrolled": true
   },
   "outputs": [
    {
     "data": {
      "text/plain": [
       "[<matplotlib.lines.Line2D at 0x10f36a0b8>]"
      ]
     },
     "execution_count": 9,
     "metadata": {},
     "output_type": "execute_result"
    },
    {
     "data": {
      "image/png": "[encoded data removed]",
      "text/plain": [
       "<matplotlib.figure.Figure at 0x10f1bfcc0>"
      ]
     },
     "metadata": {},
     "output_type": "display_data"
    }
   ],
   "source": [
    "plt.plot(grapht, graphv)"
   ]
  },
  {
   "cell_type": "markdown",
   "metadata": {},
   "source": [
    "## e^xの微分\n",
    "\n",
    "\\begin{align}\n",
    "\\frac{d}{dx}e^x = e^x \\\\\n",
    "\\end{align}\n",
    "\n",
    "### 結論\n",
    "- dtが小さいほど誤差は小さい。\n",
    "- 積分の場合、tが小さいと誤差は小さいが、tが大きくなると飽和する。"
   ]
  },
  {
   "cell_type": "code",
   "execution_count": 10,
   "metadata": {
    "collapsed": false
   },
   "outputs": [
    {
     "name": "stdout",
     "output_type": "stream",
     "text": [
      "t:1.00 ex:2.86 trueEx:2.72, Δex:0.14, (5.17%)\n",
      "t:2.00 ex:7.77 trueEx:7.39, Δex:0.38, (5.17%)\n",
      "t:3.00 ex:21.12 trueEx:20.09, Δex:1.04, (5.17%)\n",
      "t:4.00 ex:57.42 trueEx:54.60, Δex:2.82, (5.17%)\n",
      "t:5.00 ex:156.09 trueEx:148.41, Δex:7.67, (5.17%)\n",
      "t:6.00 ex:424.29 trueEx:403.43, Δex:20.86, (5.17%)\n",
      "t:7.00 ex:1153.34 trueEx:1096.63, Δex:56.71, (5.17%)\n",
      "t:8.00 ex:3135.10 trueEx:2980.96, Δex:154.14, (5.17%)\n",
      "t:9.00 ex:8522.09 trueEx:8103.08, Δex:419.00, (5.17%)\n",
      "t:10.00 ex:23165.44 trueEx:22026.47, Δex:1138.97, (5.17%)\n"
     ]
    }
   ],
   "source": [
    "dt = 0.1\n",
    "t = 0.0\n",
    "ex = math.exp(0.0)\n",
    "graphex = []\n",
    "graphtex = []\n",
    "grapht = []\n",
    "for i in range(1,int(10.0/dt)+1):\n",
    "    if i % 1 != 0:\n",
    "        continue\n",
    "    t = t + dt\n",
    "    #ex = ex + math.exp(t)*dt  #積分\n",
    "    ex = (math.exp(t+dt) - math.exp(t)) / dt  #微分\n",
    "    grapht.append(t)\n",
    "    graphex.append(ex)\n",
    "    graphtex.append(math.exp(t))\n",
    "    if i % int(1.0/dt) == 0:\n",
    "        print(\"t:{0:.2f} ex:{1:.2f} trueEx:{2:.2f}, Δex:{3:.2f}, ({4:.2f}%)\".format(t, ex,math.exp(t), ex-math.exp(t), (ex-math.exp(t))/math.exp(t)*100.0))"
   ]
  },
  {
   "cell_type": "code",
   "execution_count": 11,
   "metadata": {
    "collapsed": false
   },
   "outputs": [
    {
     "data": {
      "text/plain": [
       "[<matplotlib.lines.Line2D at 0x10f340d68>]"
      ]
     },
     "execution_count": 11,
     "metadata": {},
     "output_type": "execute_result"
    },
    {
     "data": {
      "image/png": "[encoded data removed]",
      "text/plain": [
       "<matplotlib.figure.Figure at 0x10f340da0>"
      ]
     },
     "metadata": {},
     "output_type": "display_data"
    }
   ],
   "source": [
    "plt.plot(grapht, graphex)\n",
    "plt.plot(grapht, graphtex)"
   ]
  },
  {
   "cell_type": "markdown",
   "metadata": {},
   "source": [
    "## 三角関数\n",
    "\n",
    "\\begin{align}\n",
    "\\frac{d}{dx} \\sin x = \\cos x \\\\\n",
    "\\frac{d}{dx} \\cos x = -\\sin x \\\\\n",
    "\\end{align}\n",
    "\n",
    "### 結論\n",
    "- 微分と積分はdtが同一ならほとんど精度変わらない。"
   ]
  },
  {
   "cell_type": "code",
   "execution_count": 12,
   "metadata": {
    "collapsed": false
   },
   "outputs": [
    {
     "name": "stdout",
     "output_type": "stream",
     "text": [
      "t:1.00 Dsinx:0.50(Δ-0.043) Isinx0.50(Δ-0.042) trueCosX:0.54\n",
      "t:2.00 Dsinx:-0.46(Δ-0.045) Isinx-0.46(Δ-0.044) trueCosX:-0.42\n",
      "t:3.00 Dsinx:-1.00(Δ-0.005) Isinx-1.00(Δ-0.005) trueCosX:-0.99\n",
      "t:4.00 Dsinx:-0.61(Δ0.039) Isinx-0.61(Δ0.039) trueCosX:-0.65\n",
      "t:5.00 Dsinx:0.33(Δ0.047) Isinx0.33(Δ0.049) trueCosX:0.28\n",
      "t:6.00 Dsinx:0.97(Δ0.012) Isinx0.97(Δ0.014) trueCosX:0.96\n",
      "t:7.00 Dsinx:0.72(Δ-0.034) Isinx0.72(Δ-0.033) trueCosX:0.75\n",
      "t:8.00 Dsinx:-0.19(Δ-0.049) Isinx-0.19(Δ-0.049) trueCosX:-0.15\n",
      "t:9.00 Dsinx:-0.93(Δ-0.019) Isinx-0.93(Δ-0.019) trueCosX:-0.91\n",
      "t:10.00 Dsinx:-0.81(Δ0.029) Isinx-0.81(Δ0.029) trueCosX:-0.84\n"
     ]
    }
   ],
   "source": [
    "dt = 0.1\n",
    "t = 0.0\n",
    "Dsin = math.cos(0.0)\n",
    "Isin = math.cos(0.0)\n",
    "graphDsin = []\n",
    "graphIsin = []\n",
    "graphcos = []\n",
    "grapht = []\n",
    "for i in range(1,int(10.0/dt)+1):\n",
    "    if i % 1 != 0:\n",
    "        continue\n",
    "    t = t + dt\n",
    "    Isin = Isin - math.sin(t)*dt #積分\n",
    "    Dsin = (math.sin(t+dt) - math.sin(t)) / dt #微分\n",
    "    grapht.append(t)\n",
    "    graphDsin.append(Dsin)\n",
    "    graphIsin.append(Isin)\n",
    "    graphcos.append(math.cos(t))\n",
    "    if i % int(1.0/dt) == 0:\n",
    "        print(\"t:{0:.2f} Dsinx:{1:.2f}(Δ{2:.3f}) Isinx{3:.2f}(Δ{4:.3f}) trueCosX:{5:.2f}\".format(t, Dsin, Dsin - math.cos(t), Isin, Isin - math.cos(t), math.cos(t) ) )"
   ]
  },
  {
   "cell_type": "code",
   "execution_count": 13,
   "metadata": {
    "collapsed": false
   },
   "outputs": [
    {
     "data": {
      "text/plain": [
       "[<matplotlib.lines.Line2D at 0x10f541898>]"
      ]
     },
     "execution_count": 13,
     "metadata": {},
     "output_type": "execute_result"
    },
    {
     "data": {
      "image/png": "[encoded data removed]",
      "text/plain": [
       "<matplotlib.figure.Figure at 0x10f2465c0>"
      ]
     },
     "metadata": {},
     "output_type": "display_data"
    }
   ],
   "source": [
    "plt.plot(grapht, graphcos)\n",
    "plt.plot(grapht, graphDsin)\n",
    "plt.plot(grapht, graphIsin)"
   ]
  },
  {
   "cell_type": "markdown",
   "metadata": {},
   "source": [
    "- 数式サンプル\n",
    "\n",
    "\\begin{align}\n",
    "\\dot{x} & = \\sigma(y-x) \\\\\n",
    "\\dot{y} & = \\rho x - y - xz \\\\\n",
    "\\dot{z} & = -\\beta z + xy\n",
    "\\end{align}\n",
    "\n",
    "$F = ma$"
   ]
  },
  {
   "cell_type": "code",
   "execution_count": 14,
   "metadata": {
    "collapsed": true
   },
   "outputs": [],
   "source": [
    "from IPython.display import HTML\n",
    "import matplotlib.animation as anime\n",
    "#%matplotlib nbagg"
   ]
  },
  {
   "cell_type": "code",
   "execution_count": 17,
   "metadata": {
    "collapsed": false,
    "scrolled": false
   },
   "outputs": [
    {
     "data": {
      "text/html": [
       "<video width=\"432\" height=\"288\" controls autoplay loop>\n",
       "  <source type=\"video/mp4\" src=\"data:video/mp4;base64,AAAAHGZ0eXBNNFYgAAACAGlzb21pc28yYXZjMQAAAAhmcmVlAAAiHG1kYXQAAAKgBgX//5zcRem9\n",
       "5tlIt5Ys2CDZI+7veDI2NCAtIGNvcmUgMTQ4IC0gSC4yNjQvTVBFRy00IEFWQyBjb2RlYyAtIENv\n",
       "cHlsZWZ0IDIwMDMtMjAxNSAtIGh0dHA6Ly93d3cudmlkZW9sYW4ub3JnL3gyNjQuaHRtbCAtIG9w\n",
       "dGlvbnM6IGNhYmFjPTEgcmVmPTMgZGVibG9jaz0xOjA6MCBhbmFseXNlPTB4MzoweDExMyBtZT1o\n",
       "ZXggc3VibWU9NyBwc3k9MSBwc3lfcmQ9MS4wMDowLjAwIG1peGVkX3JlZj0xIG1lX3JhbmdlPTE2\n",
       "IGNocm9tYV9tZT0xIHRyZWxsaXM9MSA4eDhkY3Q9MSBjcW09MCBkZWFkem9uZT0yMSwxMSBmYXN0\n",
       "X3Bza2lwPTEgY2hyb21hX3FwX29mZnNldD0tMiB0aHJlYWRzPTYgbG9va2FoZWFkX3RocmVhZHM9\n",
       "MSBzbGljZWRfdGhyZWFkcz0wIG5yPTAgZGVjaW1hdGU9MSBpbnRlcmxhY2VkPTAgYmx1cmF5X2Nv\n",
       "bXBhdD0wIGNvbnN0cmFpbmVkX2ludHJhPTAgYmZyYW1lcz0zIGJfcHlyYW1pZD0yIGJfYWRhcHQ9\n",
       "MSBiX2JpYXM9MCBkaXJlY3Q9MSB3ZWlnaHRiPTEgb3Blbl9nb3A9MCB3ZWlnaHRwPTIga2V5aW50\n",
       "PTI1MCBrZXlpbnRfbWluPTEwIHNjZW5lY3V0PTQwIGludHJhX3JlZnJlc2g9MCByY19sb29rYWhl\n",
       "YWQ9NDAgcmM9Y3JmIG1idHJlZT0xIGNyZj0yMy4wIHFjb21wPTAuNjAgcXBtaW49MCBxcG1heD02\n",
       "OSBxcHN0ZXA9NCBpcF9yYXRpbz0xLjQwIGFxPTE6MS4wMACAAAAMz2WIhAAQ//73gb8yy18iuslx\n",
       "+ed9LKzPPOQ8cl2JrrjQAAADAAzdk1/4Siw1AY4WJspnmAB+eFb+Isg/DPD62eNuXVVRiw9Jyxoh\n",
       "Z2spcJ4+01ozBKpm7lGmvOwHAAAVkxvpAtp+YK0REGYWEvd6j3IHFguftmv9YJxPsKXXtnSE5POf\n",
       "SHxD0ipYJMi35XejBh3ZjleG9m/EdpxKYt7yzDzRX+EOms/TCPeT7ieksrKoxBbopXlkA/9CkLa6\n",
       "ka/V+PFdSKyr+OoXPbmyhD7UAmhfUE9IpOISTYBmVwwJZQoSzUx977x0xrkNFuWnOlaOdx3NtgoF\n",
       "IPhfH8JKcBOgwLmUEJws7LFoAu6i2pmQ9mLpMQFfzMdWVMR/L7z9IDaRvo/aclPW7EmlFK0f9JZ3\n",
       "s6nUq5lSsx/fFNrOV55tmO3GVP+UOK0+E9V5PVF/56W6pi4+AoP/lJckiaHRB+g3T6rIuZkLlQbP\n",
       "5CTyfmEUj+qc8zIdfI6hef4pRhOk9ON0Vz3cDe90u8kpEwiWA6V1FKcjmfQY+/RfH+bzMgJfqnoi\n",
       "vc+BmVCsDkqu48X42vTEiDQgAqzgWxfQE140TSM9uq0AtM9We9AsU2a79hbP/BjdcgPvGUwIsc2h\n",
       "z4vzuwz9ncIl3nCLI0Pmsz8TIsAsWksDcjI+aKBa7kmyvq3UOJTuUmBZ7Prpqd+JKsiH0muT/Ivh\n",
       "e8tv+BlA6LVj13vsykKHszl4HAO5nk9+t/A8fTs7K+NfDh7Mug7UIPLcpjVLB2Pf2bl5quMaHt+z\n",
       "FVb3Tt9de5scMs4n2E3+O4cLl03kkPi2boJ0kBHG0dfdkFX4vdMLNLFAT4DGRaZTMJB/p06TMPpP\n",
       "ab8M0TLlX3SgJV8BmoCZb0stjQ9xFfG4Gjy+bwlp0qjQM9E49zggPzRDsRl/exUgU+p29ZFQD/Y3\n",
       "mTrUbMmh/Ds8Ez7k/VYGzfH5K6GtgvTKN9B6+WJSAWhzTo+0ziFs2HJD4Hnp3cnJLIVxP+dOZRxk\n",
       "b+r6Q1h293xDy3mtv/YbADQYHcdUVX3za4quiWy/aH14BwBGl74W6oCuvIK53IFgr7l8sj7efgWH\n",
       "cM+dTbuxJcmVNQ/DI1d0T0b0x4UnFJTGDzmrQfE/EX4pXRLt/YFX9BscpbwSwJWywAH2SlxnFCm0\n",
       "IWyj+0LxGkHJ/9wT6OMsWdIjvIK4WD8ppGESCT1/l1oSK8uARYO6fzh/+V87KwFN9cqEaJErQ2Ps\n",
       "mj5QMEv0WkhDb/qoyEJ9pz5VxcuPUP9k2wjdsC/QT4voEZhIhS6uUjgODQ8GTkhvDZB19p/zskSF\n",
       "BK6DFOtlwrjsV6bGmoNAyiAz68key2e66WxT68bAAA/cD0aaRg2qAT7SqjhwmKMHRAbYuiV0fz6Z\n",
       "2toNRx5o/a87inQ5r/n53YJToPtGSmq7e0e2j+GqqbKnRTgmxPHIfjBgPM17v7WjmqW6ecUdgBAd\n",
       "4QLQTzJRImIaSPVwLhEBIW1eDJRSwLhGk+EeRufN/ZFFsXFZiFF7xiLJSUEo/lNGqsZZW87wCYa9\n",
       "ytFcXqfeHIwFTQAAhSotu6iKjoEYGffjbvVIM9qxMu5TeMTcc907RQpw/nBy768CgAnKLFdXOp5o\n",
       "1NoWtzBxGUTLVD2zGBqFRYp1++htfjm37IJNZv01c5HPEByzaf4YB9TTePU3d+0r5J5UJIcbpH+g\n",
       "tOzNUbkgH9IpnwIoo1uuF5/WdSEMCPDAJ5TyUis9m7Lj89VsbcEvrDJL815ZFMULPly8w7/41q5v\n",
       "2H5E9pkU60SbXv8fCMsix3qgPsJquaWMxZkKsOeH6ZuB65iLeAB7Le+OF1uRZ7wxlmRoaqwGkcO1\n",
       "0ZFVtKM093vtX/gAo6kysRdE4k/4/n8jiMGNpQ//txqcHIySoHJHPbZHvquXvbW8bk0f//wBeLS0\n",
       "Fukwm5lRakHurk81DaHOrPzLklfIA0Y9lE+ZcVFR5c45MO2rvGut9qF93v2Id2ypwVXVXGIyiBy2\n",
       "JXF1AnDxd54aevWN3rIHxCOH1qJJstEO68jrvB6OagcjyunICfcasGeqhfmDLwzsZT5NL5tgOXAx\n",
       "gvQEH4FLL+dmPGm1bZYHT9xdgJhY9dWQay/rFKg5/dnWqrlJ8cNkZ+VS2npjB7FqDAIGonXICDcX\n",
       "daC57J2E7lvTZE83Ob7yjyiYn6Uy3G1e213taX0YOfqeanXtP+SOTyxb7KdTCPEOjq4gcZ1FxUQL\n",
       "vwkWMR+d+CsZsJsqT/6QteUtoa3/Qm5F97jBAuuvNJezEJnDBRBRFhEZJwPFX2ZMF9IsqKn26C1B\n",
       "L5EIKC0/e/bJFCJE/Hoxlcvez59bYggHZYLuSi1lFGn1mZGFqZjhQJAuspRm7KJ0Ncq53fg9gg8N\n",
       "T+3YvVGS8L4YNPP235q6Iyg6DcbdkQ2o9DKmueIFDCmtr9fJox31p+YQsldmxFUt09rn8S3j9zAC\n",
       "231bODMqCkU/XYMHjMTiBHqp3buM0CE14u9QWjwkwFkV0lsdfc443Qj9uV8blMDrTQnzZUnU2bJB\n",
       "V7IO/Uw++In4Ef2h66pSiSX7w4fyz/FrwbpufebtSu+sVMGGPcVFegEdiDvZnVbY5i48KFur6/8u\n",
       "CUPviQcGCCPg+HqrJwuGyf6tg1PBV1SqHhNrCnaWSiDdGtUVEiDk2X1oBOKL5LhZwvfk9W5hei6P\n",
       "OqMQaKSSnPNkCxK7bYjvd2dLqLxaEge06If0N4lQfW+EmF6c6xuXIiQATOHj2XPytE3XYb6xKJ6H\n",
       "xhTYfigUjXFHFjZ5QM4AxaleQqItXdvNIqlfiX9HGxdWnyC+f7PuMdA2OCLEZ0eBZK5wKo2R0ktm\n",
       "o454cIKYewUJamoN9y9FXsRK0SDOzmVJPQtmKOBLXb1TiTgBcynQvfe9tgksGcPPzQTRG50Q2Wsv\n",
       "yRsUhYNg/iU/Yb75P+q74uS94iskJGHLSBAdAT/4nTYLQScnQ+o30dQFGyK/kj1s6Poc3wFldF1k\n",
       "NNiUKtOr+Q8d4wO4My/Ff/hlB8AVLcFzgzAFxSBk4v0yMO3b8pnyvQVeHgloW+LioJHYSLEtduyN\n",
       "ElVXazY1YSJYpIjQmLb3oDOzFxhY/ek4fnRvEj5l9+CTz4Iik+vom1QWJ8ajXfR3+PlvmRJXHfIW\n",
       "kWE07G2PcqiXSDOi8HQ7rYDa03cYnb8GG+daXv/+3/+tczrZgigzjKg4mYWAOJBRZFJHkv0Vuv/I\n",
       "/HANx1tW4q2Jb4dV3D0Kw0g/VyNGgDyh7zQwnjL6e6OXIgNBjD/hqTt7J6VLeoHfsShMpOkfdSmL\n",
       "FkLL01E7cc+3NFjcoHrRbVcwyzCvsTiD27j438qmJZQfj2nfF9qsBcHcWRfXpdNv5RcWrqS0sONH\n",
       "ASzIHg1uCflkvoap1pM6gbDGybiX7XgWohCn8q8KmQpbzqVRfE/g1C+Ztj56XKyZM+mcjB6JcOHS\n",
       "xQHj9nvTysXjoZPidQYxHhGQbwpcVqIvLlV6dupiEbu9y3BlBiVaPYQT9DSA5xizOqBCHqSr8Jdc\n",
       "ST6s/s9mL54bz+7mlHqmp7FnVkrJHzNPKqQIAUQWTdowGmK1qauSvfq2L6TVRiKS9CRd0XNP7LS2\n",
       "WX1JtemeNGwHnHeotokPZe0uzLWuZQPOzCgFLYeyIc1v5u3KW+0xNKg9acDyC5ZUWr9MKuqUUt//\n",
       "D/SgQqIedenZjmbxtyskVKvkHPy5zoR9902x0yjmJTykJzwLY41DklY5C4gR5NTp+Pky6ZKASHWR\n",
       "g7r/1x9GAJbxIdCATjkg8Gy/kSrhH8lZEUIJbb7hKd6P7lr0U3wAeaaS/ygUtKXCst+pH3g9tcKC\n",
       "13nMfxG5GDYACZoUzQA90MJb+ztrw5zr07vFqttqG7cC3li3LXr5hCe+SuCzJ5gXFAmbUDuwIZuh\n",
       "lRmJ1NiOTFgpYB/ckWrA3W1Jfdbpf0b5VkcBh9/YfVtmN4Ag+y/rwepeVbpebp7atAOMrDW+Ne39\n",
       "5Rk9U3k7SK+L96f6iVPnm9UxxnGV/fF/FdoLFyHQXU6qIjdF+WumfyEKTbVhYHG+zJIaQlD+CPMX\n",
       "XcoWpZzliW+mmww/edyLIojl4pWXJK8/kQq/ECPiZGjU8CrMFGdasyLBQDeXG7jvVJ1Hw/pm6y8k\n",
       "4jnN0lweVdgDAVte4y2rKo32GxAU3pjovL2QeDngnaNLsltOor7xzrWEP5NkqZRMl6GWGhIroRY1\n",
       "eHK7A/91UKojldu6BcZ2pmvqhT2bb7FF6+mtFSlIfma4NfUvS4w9HdcdvJI9g0XvDAKnR03clrYY\n",
       "50mQ9n/oGgmdXOOHMlUq1VHTKZzuZ/b9DI5RZHBwMXsZUz7OmeKMDm40xt2v+lRrgGrTZbk50PxT\n",
       "Ri76HASNAADdED9xLQAAAhRBmiRsQ//+qZYBFFHOgFJuYcGIXUcjeyHQd2Tssn/ZfywPNO0N8VEw\n",
       "wkREwvzDa38I5S2JuGUrR5ALz8iWYtyOXY73gktfDF4aqSg/B1u+czW6S0Bg7xKYpoFs+ZJ+4l8y\n",
       "4CN4e7Bnn/euBeeHChJVWImLFb7noWs7I4C3ebPb4wI0EnHbrGEI9jhETdU3tVm+54tXHNtP/T5M\n",
       "vN51BbzU53QBZUONHHezuhE0YhbUJ44PfG3l/bnPeCbaDoFRx8o2QXkmHblO+CgtMrg1bxRk85Ov\n",
       "fNf6wY8ZLw6YIRA6oNynFCkaB5VY6MxqXfWJscSm8l7O1Dx0xWZHOqq8l/nAwtfH/ONou+hTm2jr\n",
       "vDBUAnFgWOK91RZ2EC/P7Dcyv3U36izkmixJm9/mXv0pCncfVkjzEaTk6aSMntk8EoDjeqjgl3C3\n",
       "hUiFlJE/OXmdm0p0ZkqSqbyfX0PGARzansiVEV4jQ3ztQHGNN2Ah0xdjUVwC2l7y5E7scdvt5C7h\n",
       "DZvnj7mD5F3SolPwkuQx1S3mHZRfXDAF9+WwmTHh52gLUj67DbHv/Mbll65fPsq/5SQ5YCreVw3v\n",
       "wN38dNv5SGruj0klGtEpn5eSktAN2Or0zsfIQHdqc1UIqNuq4qUa/Ff7Oa+BwVRul35Up6g+gBP0\n",
       "XcVjGKZ9smq1y/mhgZ4ydtVgCbKXNJS1GfjVb5PWnqrOZh7wAAAASEGeQniHfwBx9CK1wMmSFojZ\n",
       "/0PghGkYi9JekRiei3phGZ0kG1T1gmL52X5s5mHt6ihBoYwSHoGtapDcJ3QAGNeY2wAruIypzwAA\n",
       "ACcBnmF0Q38ApB3zgTPOT+0UviU8lTuBOIbEoeogJygg6jNjHhyG5oQAAAAiAZ5jakN/AB5jXDSP\n",
       "se8s9MhtuMENJUCk57Q+DwQ8eLsQMQAAAHJBmmVJqEFomUwIf//+qZYAK4CKyY8/cOSGYfe/64ek\n",
       "8SSn9a15C7x8NgReUI9H1rlxpiP8bTv74dmogPo5JDza9mqouBHDt0Q9W/ctf7uKLhSnHI+/Dt9k\n",
       "un4tzsTYtF/aZJAFm5ebb0HFggnFp1N69oEAAAAdQZqGSeEKUmUwIf/+qZYAK7zzyy4qr82OuojA\n",
       "i4EAAAAfQZqnSeEOiZTAh//+qZYAFcENpHxmkntOMAG3PcoCgwAAAB5BmshJ4Q8mUwIf//6plgAV\n",
       "v5SpJ5NoxhFexsWWFfAAAAAlQZrpSeEPJlMCH//+qZYAFd555Zb0OS2cCvPUqtqQVyctWCog2AAA\n",
       "ACJBmwpJ4Q8mUwIf//6plgAK38qz+2GPD/29PtLvgK68k5QtAAAAMEGbK0nhDyZTAh///qmWAArv\n",
       "9XANHYuBoVX47liVeEEMknn4DS9AdHUfMBGHHUop+QAAACdBm0xJ4Q8mUwIIf/6qVQABZRaQNs9B\n",
       "WjT63OrEJ/ubirrmY+ZKom4AAAAvQZttSeEPJlMCCH/+qlUAAWaQDkHTBnNy4c2/gV8k9eK4oAYU\n",
       "LVJCi22h+j7lUI0AAAAdQZuOSeEPJlMCCH/+qlUAAWb4yNCvjgDafBpLjpkAAAB1QZuySeEPJlMC\n",
       "H//+qZYAArvwra8V6Qzh9P7l2SgBD9qpiQMgTPLTYCDBfJjMw3+EioL8YqMV5Ny5EIQJttL4hYFl\n",
       "f90Z4S1B0MaLveYROWG9TNpmj3JOVZjH6rM8+nC8RXqjiSACdm94u7hKMjaocrSjWXTBAAAAKEGf\n",
       "0EURPDv/AAFcMU4JaQDrgAQJpQCttmWenv47kx4Bs1mN4ofBWbAAAAAcAZ/vdEN/AAHl4VLfnBSG\n",
       "b9L8IpkHBwcKmxdxgAAAACQBn/FqQ38AAPMEiR+vm3Uq7+G3OAA8iYBb75q9iRLX1SSn0YEAAAAj\n",
       "QZvzSahBaJlMCH///qmWAACt/Ks/thjwfxFFgt0cCu+Kk4AAAAA3QZoUSeEKUmUwIIf//qpVAAAs\n",
       "39XBKQNvIiMkAVRitP85TzfD2trf4mzGIoJACAF94Mg7iTI4uAAAACZBmjVJ4Q6JlMCCH/6qVQAA\n",
       "LN8ZCiEFBkuK1Eoav/lLqhhwTne32wAAAB5BmlZJ4Q8mUwIIf/6qVQAAFlAVShNZKYcwerDouBAA\n",
       "AAAtQZp3SeEPJlMCCP/+tSqAAAs3+IDbTZso/X/UfNvZgD+ACirIKsYqZll1wCIRAAAAi0Gam0nh\n",
       "DyZTAgj//rUqgAAFm/xAUOoe8iLV/uzDNcFfzkUJflIdPTB3VX7I1wCHUNEC7Cs9U5SLG/L2jSFT\n",
       "jJlxzo6hXyYqgghOBRP87/gHqOB9Tkuea3hKkvpIXA1UOd19tkkokcAySxBD5ee7PgWYPFORwitr\n",
       "D/4lMOJauwI1aqlfNiDjdJxTyD8AAAAlQZ65RRE8O/8AAHDSzmUwLVeyAEkl5EDHfNUGJ1ypwN4T\n",
       "GPgv5QAAABYBnth0Q38AAKOd84EzVd3Ok68jg2lJAAAAGAGe2mpDfwAAo70KKZsuSwUZtxagvWqB\n",
       "0gAAAB9Bmt9JqEFomUwII//+tSqAAAWbo3sx5UMgD8xfR90BAAAAF0Ge/UURLDv/AAByCNPhHe4U\n",
       "KYVIqMnhAAAAGQGfHHRDfwAAo53zgfbay5tokpfOwqz3FEAAAAATAZ8eakN/AACjvQm0sAvnXgqi\n",
       "IAAAAB1BmwNJqEFsmUwIIf/+qlUAAAsoC1XaVGNZEchBqQAAACBBnyFFFSw7/wAAcgjT+kYCydGx\n",
       "tAASbvIgxNRqfUwCiAAAABUBn0B0Q38AAKOd8tSZ7akzVA3ebPEAAAAYAZ9CakN/AACjvQopkB1s\n",
       "dT6fNnfes2eAAAAAmUGbR0moQWyZTAh///6plgAAV3hb8IGuIAF0oiVvLHXaPOxYq8/cPQpYc6Ed\n",
       "H4eQz5wYiaY/B7HhLUPgsXohghCTzUPJyD7D3jOhXpd0aVWbO4L8gsViImTcXsCcdNb/lwucXW3z\n",
       "LeTF5DNKG1Ev5r+Vdcr7R/WL2Pvyfg2DsaxNwmDuv2M/6gjX0NKnffjliWAIgmxdiAp3gQAAABtB\n",
       "n2VFFSw7/wAAcgjULAwFk5QTBu5AiXHRbPEAAAAXAZ+EdEN/AACjnfOBp3uBsOas+osSUoEAAAAg\n",
       "AZ+GakN/AACjvQsTIDrY52pYAEH7r3b5VlAaXJvycoEAAAAhQZuISahBbJlMCH///qmWAABW/lVA\n",
       "GwNxh0WBuShUwQuAAAAALkGbqUnhClJlMCH//qmWAACt85sMvfqh7hl7/tvT0TtxOjrJhtyY90y3\n",
       "i/OlJAgAAAA4QZvKSeEOiZTAh//+qZYAAK6gAJHwAFey/NCijRjd+36mdj92dV53550L383VHH0z\n",
       "rHWVJoMH0nEAAAAfQZvrSeEPJlMCH//+qZYAAK38qoA2BuD/29PtLv1JwAAAACNBmgxJ4Q8mUwIf\n",
       "//6plgABXBn5XBAIFnxbCiL49PBVSHEgQAAAACBBmi1J4Q8mUwIf//6plgABW/ls8G5Pwf+3p9pd\n",
       "8BpZwQAAACZBmk5J4Q8mUwIf//6plgACt/LB92Vz3mAAWII7XKc1VgFXb1X1dwAAAB1Bmm9J4Q8m\n",
       "UwIf//6plgACuCG9nMzSGY39KXLV8QAAACFBmpBJ4Q8mUwIIf/6qVQABZQFe2UgCqU1mfxAroZnD\n",
       "EXAAAAAtQZqxSeEPJlMCCH/+qlUAAWUWkBfPQVm9vKefQMwrWjmMfTRDF3pU6Mf/KI5wAAAALUGa\n",
       "0knhDyZTAgh//qpVAALJ3ncY+3kRGP6TlJp6Q3Gq09jZ/1SnBoFi6icMCQAAACRBmvNJ4Q8mUwII\n",
       "//61KoABZPBm1p6hw3FhgW89xG1OqkNMDzAAAAB6QZsXSeEPJlMCCP/+tSqAAs3EfkIH7VIAF2El\n",
       "ZSM+BM86vNlkIvGraCl7341aiZgcCr0Qc1Ue7ruzxJhfe3qP8qNQ6cY2COyrCXfYsMGVDMIX4x5c\n",
       "Sw1odKReYaHgatC3kohMH1d395dfeBvunxQhB7GQeyJZo8E4MCAAAAAcQZ81RRE8O/8ACuLo48yr\n",
       "ncv89ZjniswzFVfUQQAAABcBn1R0Q38ADzHvbJDOhTYgx7Akp1LEQAAAABcBn1ZqQ38ADzGvrN3N\n",
       "Hgy5FS37m65oiQAAAIdBm1tJqEFomUwII//+tSqABZuI/S772qQATrcMW1Q7op4BBfqU47A8TqaO\n",
       "BY5iR9oUQ7zVhUCjRQ5Elx7BD1UOc2SZNw+Ib6WmpxFb0pz2X+aNYISVjke6/HG32FSnaLaRYy6s\n",
       "fjfWEMjaTdu5l2ghP5QkCfdZPKtXEOq0m5NfnELJXglwOmEAAAAbQZ95RREsO/8AFcXRcHYHcatK\n",
       "VkpPkmwATSKIAAAAGAGfmHRDfwAeY97Y55DoUSNrbd2wAItIgQAAAB0Bn5pqQ38AHlNQ3ougycwb\n",
       "D7yz5FPW3Hcyn2PSgAAAACxBm59JqEFsmUwIIf/+qlUACygIH6QAbrmS2fLvUmCbPSCq+ruF8NYO\n",
       "VmVmoQAAABhBn71FFSw7/wArir16lZQdwU5iUwqBcSUAAAAVAZ/cdEN/AB5lT59Xokw5hxAYzCjA\n",
       "AAAAEwGf3mpDfwA8xQgRaq6DjIgDKjAAAAAeQZvDSahBbJlMCH///qmWACuDPiDP+gnuLLTZYK+B\n",
       "AAAAG0Gf4UUVLDv/ACuOFtLWF3GMqUd2lYh23IQGeAAAABcBngB0Q38APLptL9ZuQ69tW1Uj/7+I\n",
       "gQAAABkBngJqQ38APMUIEPR5hEYmDCY1R1euWS+wAAAALkGaBEmoQWyZTAgh//6qVQALN/jRnoPB\n",
       "MbD/RpX0mXYfKZj3dZszG1nEvxS4HTEAAAAvQZolSeEKUmUwIIf//qpVAAs30DT4+i5uaAIMR8ye\n",
       "3lkgyjtCQXBI5VlyJeTpw1EAAAAfQZpJSeEOiZTAh//+qZYAFd+FbXioU0X8+/t84rCh4wAAAChB\n",
       "nmdFETw7/wArjFqpj7c0EHSZAwp74l9XePtXYvISEKZzaU7E9W7xAAAAIQGehnRDfwA8um0we3VU\n",
       "bF5X5WmwArVjKJDFXmRjoMV7wAAAABsBnohqQ38APMUIEW+B1WBkXigce5oxf6M0WYAAAAAvQZqK\n",
       "SahBaJlMCH///qmWAArvPPLEKkBprvmADRCBY4SnTonZuFdXjbjXHnS5AWEAAAAcQZqrSeEKUmUw\n",
       "If/+qZYABXBn6GGgIFnxtlBQQAAAAClBmsxJ4Q6JlMCH//6plgAFcEOBmERjW+hJNC9XpDkIaor3\n",
       "TgBqnwwH+AAAACZBmu1J4Q8mUwIf//6plgAFd+FcP8PvN/N99Jlww9tfnfGvRAvSgwAAACJBmw5J\n",
       "4Q8mUwIf//6plgACt/Lcl0VYdgjguuHW4L5c4Cy5AAAAJUGbL0nhDyZTAh///qmWAAK7zzyy9cVM\n",
       "gZQAmZy/MeHIMl3hkXEAAAAhQZtQSeEPJlMCH//+qZYAAVwQ3vQE5EsZJrqC2oXzAqTgAAAAHkGb\n",
       "cUnhDyZTAh///qmWAAFd55wiheQJh97ZFbT3TAAAACFBm5JJ4Q8mUwIf//6plgAArghveeM0hlbI\n",
       "AaVSjiWjApcAAAAnQZuzSeEPJlMCH//+qZYAAK7/VwA4DtwGhVfjuVaEW7zai6jGqBCAAAAAKEGb\n",
       "1EnhDyZTAh///qmWAABW/lWf2wx4TOwMIob5fc9k3jgSfFvOlJgAAAAlQZv1SeEPJlMCH//+qZYA\n",
       "AFb+UqO/Qs2vAAalW1f/G002I8XCkwAAACJBmhZJ4Q8mUwIIf/6qVQAAFm+MhHK9G15TJba6CrsN\n",
       "A+wQAAAAIUGaN0nhDyZTAgh//qpVAAALKAnMJmFMYRkKyx7qodCXYwAAACNBmlhJ4Q8mUwII//61\n",
       "KoAABZTYY1L/oYAJXXnKymv2nbYNQQAAAC9BmnxJ4Q8mUwIIf/6qVQAACzfGQjleja8p2tzQdCUV\n",
       "+IlTZEQHgv9QMOftaaF6YAAAACRBnppFETw7/wAAcNLOZS6Uv2c4eC6mckcAKMkocuGvFqdCe5UA\n",
       "AAAdAZ65dEN/AACjnfOBMyIgACNIv6sfLkJThq0TqIAAAAAYAZ67akN/AACjvQop3h8ixOSlmthV\n",
       "tpKJAAAAG0GaoEmoQWiZTAh///6plgAAFb+aHLe3h/8EfQAAACNBnt5FESw7/wAAcgjT4SPtZSAE\n",
       "mu22TpmhfOHa9QzNryP4iAAAABMBnv10Q38AAKOd8tSOhvYxJyIgAAAAEwGe/2pDfwAAo70JtNgk\n",
       "GTrvh6MAAAApQZrjSahBbJlMCG///qeEAABWkPmlxe0MK4WTVLeRWv7POP6ud7zZS4AAAAAXQZ8C\n",
       "Qhv/AACjzBCUvOmdNSCya/VcjKEAAAAXAZ8haRDfAACjnfOBfR1dsOh+VeL9oiAAAAambW9vdgAA\n",
       "AGxtdmhkAAAAAAAAAAAAAAAAAAAD6AAAJxAAAQAAAQAAAAAAAAAAAAAAAAEAAAAAAAAAAAAAAAAA\n",
       "AAABAAAAAAAAAAAAAAAAAABAAAAAAAAAAAAAAAAAAAAAAAAAAAAAAAAAAAAAAAAAAgAABdB0cmFr\n",
       "AAAAXHRraGQAAAADAAAAAAAAAAAAAAABAAAAAAAAJxAAAAAAAAAAAAAAAAAAAAAAAAEAAAAAAAAA\n",
       "AAAAAAAAAAABAAAAAAAAAAAAAAAAAABAAAAAAbAAAAEgAAAAAAAkZWR0cwAAABxlbHN0AAAAAAAA\n",
       "AAEAACcQAAAIAAABAAAAAAVIbWRpYQAAACBtZGhkAAAAAAAAAAAAAAAAAAAoAAABkABVxAAAAAAA\n",
       "LWhkbHIAAAAAAAAAAHZpZGUAAAAAAAAAAAAAAABWaWRlb0hhbmRsZXIAAAAE821pbmYAAAAUdm1o\n",
       "ZAAAAAEAAAAAAAAAAAAAACRkaW5mAAAAHGRyZWYAAAAAAAAAAQAAAAx1cmwgAAAAAQAABLNzdGJs\n",
       "AAAAs3N0c2QAAAAAAAAAAQAAAKNhdmMxAAAAAAAAAAEAAAAAAAAAAAAAAAAAAAAAAbABIABIAAAA\n",
       "SAAAAAAAAAABAAAAAAAAAAAAAAAAAAAAAAAAAAAAAAAAAAAAAAAAAAAAGP//AAAAMWF2Y0MBZAAV\n",
       "/+EAGGdkABWs2UGwloQAAAMABAAAAwBQPFi2WAEABmjr48siwAAAABx1dWlka2hA8l8kT8W6OaUb\n",
       "zwMj8wAAAAAAAAAYc3R0cwAAAAAAAAABAAAAZAAABAAAAAAUc3RzcwAAAAAAAAABAAAAAQAAAfhj\n",
       "dHRzAAAAAAAAAD0AAAABAAAIAAAAAAEAABQAAAAAAQAACAAAAAABAAAAAAAAAAEAAAQAAAAACgAA\n",
       "CAAAAAABAAAUAAAAAAEAAAgAAAAAAQAAAAAAAAABAAAEAAAAAAUAAAgAAAAAAQAAFAAAAAABAAAI\n",
       "AAAAAAEAAAAAAAAAAQAABAAAAAABAAAUAAAAAAEAAAgAAAAAAQAAAAAAAAABAAAEAAAAAAEAABQA\n",
       "AAAAAQAACAAAAAABAAAAAAAAAAEAAAQAAAAAAQAAFAAAAAABAAAIAAAAAAEAAAAAAAAAAQAABAAA\n",
       "AAAMAAAIAAAAAAEAABQAAAAAAQAACAAAAAABAAAAAAAAAAEAAAQAAAAAAQAAFAAAAAABAAAIAAAA\n",
       "AAEAAAAAAAAAAQAABAAAAAABAAAUAAAAAAEAAAgAAAAAAQAAAAAAAAABAAAEAAAAAAEAABQAAAAA\n",
       "AQAACAAAAAABAAAAAAAAAAEAAAQAAAAAAgAACAAAAAABAAAUAAAAAAEAAAgAAAAAAQAAAAAAAAAB\n",
       "AAAEAAAAAA8AAAgAAAAAAQAAFAAAAAABAAAIAAAAAAEAAAAAAAAAAQAABAAAAAABAAAUAAAAAAEA\n",
       "AAgAAAAAAQAAAAAAAAABAAAEAAAAAAEAABAAAAAAAQAACAAAAAABAAAAAAAAABxzdHNjAAAAAAAA\n",
       "AAEAAAABAAAAZAAAAAEAAAGkc3RzegAAAAAAAAAAAAAAZAAAD3cAAAIYAAAATAAAACsAAAAmAAAA\n",
       "dgAAACEAAAAjAAAAIgAAACkAAAAmAAAANAAAACsAAAAzAAAAIQAAAHkAAAAsAAAAIAAAACgAAAAn\n",
       "AAAAOwAAACoAAAAiAAAAMQAAAI8AAAApAAAAGgAAABwAAAAjAAAAGwAAAB0AAAAXAAAAIQAAACQA\n",
       "AAAZAAAAHAAAAJ0AAAAfAAAAGwAAACQAAAAlAAAAMgAAADwAAAAjAAAAJwAAACQAAAAqAAAAIQAA\n",
       "ACUAAAAxAAAAMQAAACgAAAB+AAAAIAAAABsAAAAbAAAAiwAAAB8AAAAcAAAAIQAAADAAAAAcAAAA\n",
       "GQAAABcAAAAiAAAAHwAAABsAAAAdAAAAMgAAADMAAAAjAAAALAAAACUAAAAfAAAAMwAAACAAAAAt\n",
       "AAAAKgAAACYAAAApAAAAJQAAACIAAAAlAAAAKwAAACwAAAApAAAAJgAAACUAAAAnAAAAMwAAACgA\n",
       "AAAhAAAAHAAAAB8AAAAnAAAAFwAAABcAAAAtAAAAGwAAABsAAAAUc3RjbwAAAAAAAAABAAAALAAA\n",
       "AGJ1ZHRhAAAAWm1ldGEAAAAAAAAAIWhkbHIAAAAAAAAAAG1kaXJhcHBsAAAAAAAAAAAAAAAALWls\n",
       "c3QAAAAlqXRvbwAAAB1kYXRhAAAAAQAAAABMYXZmNTYuNDAuMTAx\n",
       "\">\n",
       "  Your browser does not support the video tag.\n",
       "</video>"
      ],
      "text/plain": [
       "<matplotlib.animation.ArtistAnimation at 0x10fa50b70>"
      ]
     },
     "execution_count": 17,
     "metadata": {},
     "output_type": "execute_result"
    },
    {
     "data": {
      "image/png": "[encoded data removed]",
      "text/plain": [
       "<matplotlib.figure.Figure at 0x10f81fef0>"
      ]
     },
     "metadata": {},
     "output_type": "display_data"
    }
   ],
   "source": [
    "fig = plt.figure()\n",
    "plt.xlim(-1.0, 1.0)\n",
    "plt.ylim(-1.5, 1.5)\n",
    "ims = []\n",
    "for i in range(100):\n",
    "    im = plt.plot(0.0, graphcos[i], 'bo')\n",
    "    #print(graphcos[i])\n",
    "    ims.append(im)\n",
    "\n",
    "plt.rcParams[\"animation.html\"] = 'html5'\n",
    "ani = anime.ArtistAnimation(fig, ims, interval = 100, repeat=True)\n",
    "#plt.show()\n",
    "#ani.save(\"sample.gif\")\n",
    "ani"
   ]
  },
  {
   "cell_type": "code",
   "execution_count": null,
   "metadata": {
    "collapsed": true
   },
   "outputs": [],
   "source": []
  }
 ],
 "metadata": {
  "kernelspec": {
   "display_name": "Python 3",
   "language": "python",
   "name": "python3"
  },
  "language_info": {
   "codemirror_mode": {
    "name": "ipython",
    "version": 3
   },
   "file_extension": ".py",
   "mimetype": "text/x-python",
   "name": "python",
   "nbconvert_exporter": "python",
   "pygments_lexer": "ipython3",
   "version": "3.6.0"
  }
 },
 "nbformat": 4,
 "nbformat_minor": 2
}
