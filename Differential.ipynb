{
 "cells": [
  {
   "cell_type": "markdown",
   "metadata": {},
   "source": [
    "# 微分計算\n",
    "## 自由落下\n",
    "\n",
    " \\begin{align}\n",
    " F [N] = ma [kg \\cdot m/s^2]\\\\\n",
    " F = m \\frac{d^2 r}{dt^2} \\\\\n",
    " r = \\frac{1}{2} a_0t^2 + v_0t + r_0 \\\\\n",
    " (a_0 = \\frac{F}{m})\\\\\n",
    "  F\\Delta t = mat + v\n",
    " \\end{align}\n"
   ]
  },
  {
   "cell_type": "code",
   "execution_count": 5,
   "metadata": {
    "collapsed": true
   },
   "outputs": [],
   "source": [
    "import math"
   ]
  },
  {
   "cell_type": "code",
   "execution_count": 22,
   "metadata": {
    "collapsed": true
   },
   "outputs": [],
   "source": [
    "m = 1\n",
    "g = 9.8\n",
    "dt = 0.01"
   ]
  },
  {
   "cell_type": "markdown",
   "metadata": {},
   "source": [
    " \\begin{align}\n",
    " v = -gt \\\\\n",
    " v(t+dt) = v(t) + a(=\\frac{dv}{dt}) \\cdot dt \\\\\n",
    " x = - \\frac{1}{2} gt^2 + 0 \\cdot t + 0 \\\\\n",
    " x(t+dt) = x(t) + v(=\\frac{dx}{dt}) \\cdot dt \\\\\n",
    " (g = 9.8)\n",
    " \\end{align}"
   ]
  },
  {
   "cell_type": "code",
   "execution_count": 30,
   "metadata": {
    "collapsed": false
   },
   "outputs": [
    {
     "name": "stdout",
     "output_type": "stream",
     "text": [
      "t:2.00 v:-19.60 x:-20.58, ΔV:0.00 ΔX:-0.98\n",
      "t:4.00 v:-39.20 x:-80.36, ΔV:0.00 ΔX:-1.96\n",
      "t:6.00 v:-58.80 x:-179.34, ΔV:0.00 ΔX:-2.94\n",
      "t:8.00 v:-78.40 x:-317.52, ΔV:-0.00 ΔX:-3.92\n",
      "t:10.00 v:-98.00 x:-494.90, ΔV:-0.00 ΔX:-4.90\n",
      "t:12.00 v:-117.60 x:-711.48, ΔV:-0.00 ΔX:-5.88\n",
      "t:14.00 v:-137.20 x:-967.26, ΔV:-0.00 ΔX:-6.86\n",
      "t:16.00 v:-156.80 x:-1262.24, ΔV:-0.00 ΔX:-7.84\n",
      "t:18.00 v:-176.40 x:-1596.42, ΔV:0.00 ΔX:-8.82\n"
     ]
    }
   ],
   "source": [
    "t = 0.0\n",
    "x = 0.0\n",
    "v = 0.0\n",
    "graphx = []\n",
    "grapht = []\n",
    "for i in range(1,1000):\n",
    "    if i % 5 != 0:\n",
    "        continue\n",
    "    t = t + dt\n",
    "    v = v - g*dt\n",
    "    x = x + v*dt\n",
    "    grapht.append(t)\n",
    "    graphx.append(x)\n",
    "    if i % 100 == 0:\n",
    "        print(\"t:{0:.2f} v:{1:.2f} x:{2:.2f}, ΔV:{3:.2f} ΔX:{4:.2f}\".format(t, v, x, v-(-g*t/m), x-(-g*t*t/2/m)))"
   ]
  },
  {
   "cell_type": "code",
   "execution_count": 31,
   "metadata": {
    "collapsed": false
   },
   "outputs": [
    {
     "name": "stdout",
     "output_type": "stream",
     "text": [
      "Populating the interactive namespace from numpy and matplotlib\n"
     ]
    }
   ],
   "source": [
    "%pylab inline"
   ]
  },
  {
   "cell_type": "code",
   "execution_count": 32,
   "metadata": {
    "collapsed": false
   },
   "outputs": [
    {
     "data": {
      "text/plain": [
       "[<matplotlib.lines.Line2D at 0x1157219b0>]"
      ]
     },
     "execution_count": 32,
     "metadata": {},
     "output_type": "execute_result"
    },
    {
     "data": {
      "image/png": "[encoded data removed]",
      "text/plain": [
       "<matplotlib.figure.Figure at 0x11565f588>"
      ]
     },
     "metadata": {},
     "output_type": "display_data"
    }
   ],
   "source": [
    "plt.plot(grapht, graphx)"
   ]
  },
  {
   "cell_type": "markdown",
   "metadata": {},
   "source": [
    "- 数式サンプル\n",
    "\n",
    "\\begin{align}\n",
    "\\dot{x} & = \\sigma(y-x) \\\\\n",
    "\\dot{y} & = \\rho x - y - xz \\\\\n",
    "\\dot{z} & = -\\beta z + xy\n",
    "\\end{align}\n",
    "\n",
    "$F = ma$"
   ]
  },
  {
   "cell_type": "code",
   "execution_count": null,
   "metadata": {
    "collapsed": true
   },
   "outputs": [],
   "source": []
  }
 ],
 "metadata": {
  "kernelspec": {
   "display_name": "Python 3",
   "language": "python",
   "name": "python3"
  },
  "language_info": {
   "codemirror_mode": {
    "name": "ipython",
    "version": 3
   },
   "file_extension": ".py",
   "mimetype": "text/x-python",
   "name": "python",
   "nbconvert_exporter": "python",
   "pygments_lexer": "ipython3",
   "version": "3.6.0"
  }
 },
 "nbformat": 4,
 "nbformat_minor": 2
}
