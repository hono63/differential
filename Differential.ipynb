{
 "cells": [
  {
   "cell_type": "markdown",
   "metadata": {},
   "source": [
    "# 微分計算\n",
    "## 自由落下\n",
    "\n",
    " \\begin{align}\n",
    " F [N] = ma [kg \\cdot m/s^2]  \\\\\n",
    " F = m \\frac{d^2 r}{dt^2}  \\\\\n",
    " r = \\frac{1}{2} a_0t^2 + v_0t + r_0  \\\\\n",
    " (a_0 = \\frac{F}{m})  \\\\\n",
    "  F\\Delta t = mat + v  \\\\\n",
    " \\end{align}\n"
   ]
  },
  {
   "cell_type": "code",
   "execution_count": 5,
   "metadata": {
    "collapsed": true
   },
   "outputs": [],
   "source": [
    "import math"
   ]
  },
  {
   "cell_type": "code",
   "execution_count": 31,
   "metadata": {
    "collapsed": false,
    "scrolled": true
   },
   "outputs": [
    {
     "name": "stdout",
     "output_type": "stream",
     "text": [
      "Populating the interactive namespace from numpy and matplotlib\n"
     ]
    }
   ],
   "source": [
    "%pylab inline"
   ]
  },
  {
   "cell_type": "code",
   "execution_count": 22,
   "metadata": {
    "collapsed": true
   },
   "outputs": [],
   "source": [
    "m = 1\n",
    "g = 9.8\n",
    "dt = 0.01"
   ]
  },
  {
   "cell_type": "markdown",
   "metadata": {},
   "source": [
    " \\begin{align}\n",
    " v = -gt \\\\\n",
    " v(t+dt) = v(t) + a(=\\frac{dv}{dt}) \\cdot dt \\\\\n",
    " x = - \\frac{1}{2} gt^2 + 0 \\cdot t + 0 \\\\\n",
    " x(t+dt) = x(t) + v(=\\frac{dx}{dt}) \\cdot dt \\\\\n",
    " (g = 9.8)\n",
    " \\end{align}"
   ]
  },
  {
   "cell_type": "code",
   "execution_count": 44,
   "metadata": {
    "collapsed": false
   },
   "outputs": [
    {
     "name": "stdout",
     "output_type": "stream",
     "text": [
      "t:2.00 v:-19.60 x:-20.58, ΔX:-0.98\n",
      "t:4.00 v:-39.20 x:-80.36, ΔX:-1.96\n",
      "t:6.00 v:-58.80 x:-179.34, ΔX:-2.94\n",
      "t:8.00 v:-78.40 x:-317.52, ΔX:-3.92\n",
      "t:10.00 v:-98.00 x:-494.90, ΔX:-4.90\n",
      "t:12.00 v:-117.60 x:-711.48, ΔX:-5.88\n",
      "t:14.00 v:-137.20 x:-967.26, ΔX:-6.86\n",
      "t:16.00 v:-156.80 x:-1262.24, ΔX:-7.84\n",
      "t:18.00 v:-176.40 x:-1596.42, ΔX:-8.82\n"
     ]
    }
   ],
   "source": [
    "t = 0.0\n",
    "x = 0.0\n",
    "v = 0.0\n",
    "graphx = []\n",
    "grapht = []\n",
    "for i in range(1,1000):\n",
    "    if i % 5 != 0:\n",
    "        continue\n",
    "    t = t + dt\n",
    "    v = v - m*g*dt\n",
    "    x = x + v*dt\n",
    "    grapht.append(t)\n",
    "    graphx.append(x)\n",
    "    if i % 100 == 0:\n",
    "        print(\"t:{0:.2f} v:{1:.2f} x:{2:.2f}, ΔX:{3:.2f}\".format(t, v, x, x-(-g*t*t/2)))"
   ]
  },
  {
   "cell_type": "code",
   "execution_count": 45,
   "metadata": {
    "collapsed": false,
    "scrolled": true
   },
   "outputs": [
    {
     "data": {
      "text/plain": [
       "[<matplotlib.lines.Line2D at 0x115d18a90>]"
      ]
     },
     "execution_count": 45,
     "metadata": {},
     "output_type": "execute_result"
    },
    {
     "data": {
      "image/png": "[encoded data removed]",
      "text/plain": [
       "<matplotlib.figure.Figure at 0x115b42a20>"
      ]
     },
     "metadata": {},
     "output_type": "display_data"
    }
   ],
   "source": [
    "plt.plot(grapht, graphx)"
   ]
  },
  {
   "cell_type": "markdown",
   "metadata": {},
   "source": [
    "### 空気抵抗の有る場合\n",
    "\\begin{align}\n",
    "m\\frac{d^2x}{dt^2} = - mg - \\gamma v \\\\\n",
    "v(t+dt) = v(t) + (-g-\\frac{\\gamma}{m} v(t)) \\cdot dt \\\\\n",
    "\\end{align}"
   ]
  },
  {
   "cell_type": "code",
   "execution_count": 48,
   "metadata": {
    "collapsed": false
   },
   "outputs": [
    {
     "name": "stdout",
     "output_type": "stream",
     "text": [
      "t:10.00 v:-62.13 x:-364.92, ΔX:187.20\n",
      "t:20.00 v:-84.87 x:-1119.79, ΔX:1009.95\n",
      "t:30.00 v:-93.19 x:-2017.38, ΔX:2672.20\n",
      "t:40.00 v:-96.24 x:-2967.22, ΔX:5257.75\n",
      "t:50.00 v:-97.36 x:-3936.17, ΔX:8800.61\n",
      "t:60.00 v:-97.76 x:-4912.13, ΔX:13314.45\n",
      "t:70.00 v:-97.91 x:-5890.65, ΔX:18804.74\n",
      "t:80.00 v:-97.97 x:-6870.11, ΔX:25273.63\n",
      "t:90.00 v:-97.99 x:-7849.91, ΔX:32721.98\n"
     ]
    }
   ],
   "source": [
    "gamma = 0.1\n",
    "t = 0.0\n",
    "x = 0.0\n",
    "v = 0.0\n",
    "graphv = []\n",
    "grapht = []\n",
    "for i in range(1,1000):\n",
    "    if i % 1 != 0:\n",
    "        continue\n",
    "    t = t + dt\n",
    "    v = v + (-m*g - gamma*v)*dt\n",
    "    x = x + v*dt\n",
    "    grapht.append(t)\n",
    "    graphv.append(v)\n",
    "    if i % 100 == 0:\n",
    "        print(\"t:{0:.2f} v:{1:.2f} x:{2:.2f}, ΔX:{3:.2f}\".format(t, v, x, x-(-g*t*t/2+gamma/m*v*t)))"
   ]
  },
  {
   "cell_type": "code",
   "execution_count": 47,
   "metadata": {
    "collapsed": false,
    "scrolled": true
   },
   "outputs": [
    {
     "data": {
      "text/plain": [
       "[<matplotlib.lines.Line2D at 0x115e15160>]"
      ]
     },
     "execution_count": 47,
     "metadata": {},
     "output_type": "execute_result"
    },
    {
     "data": {
      "image/png": "[encoded data removed]",
      "text/plain": [
       "<matplotlib.figure.Figure at 0x115c7e160>"
      ]
     },
     "metadata": {},
     "output_type": "display_data"
    }
   ],
   "source": [
    "plt.plot(grapht, graphv)"
   ]
  },
  {
   "cell_type": "markdown",
   "metadata": {},
   "source": [
    "## e^xの微分\n",
    "\n",
    "\\begin{align}\n",
    "\\frac{d}{dx}e^x = e^x \\\\\n",
    "\\end{align}\n",
    "\n",
    "### 結論\n",
    "- dtが小さいほど誤差は小さい。\n",
    "- tが進むほど誤差は累積する。"
   ]
  },
  {
   "cell_type": "code",
   "execution_count": 86,
   "metadata": {
    "collapsed": false
   },
   "outputs": [
    {
     "name": "stdout",
     "output_type": "stream",
     "text": [
      "t:1.00 ex:2.81 trueEx:2.72, Δex:0.09, (3.21%)\n",
      "t:2.00 ex:7.71 trueEx:7.39, Δex:0.32, (4.40%)\n",
      "t:3.00 ex:21.06 trueEx:20.09, Δex:0.97, (4.83%)\n",
      "t:4.00 ex:57.32 trueEx:54.60, Δex:2.72, (4.99%)\n",
      "t:5.00 ex:155.91 trueEx:148.41, Δex:7.49, (5.05%)\n",
      "t:6.00 ex:423.89 trueEx:403.43, Δex:20.46, (5.07%)\n",
      "t:7.00 ex:1152.33 trueEx:1096.63, Δex:55.69, (5.08%)\n",
      "t:8.00 ex:3132.44 trueEx:2980.96, Δex:151.48, (5.08%)\n",
      "t:9.00 ex:8514.94 trueEx:8103.08, Δex:411.85, (5.08%)\n",
      "t:10.00 ex:23146.09 trueEx:22026.47, Δex:1119.62, (5.08%)\n"
     ]
    }
   ],
   "source": [
    "dt = 0.1\n",
    "t = 0.0\n",
    "ex = math.exp(0.0)\n",
    "graphex = []\n",
    "graphtex = []\n",
    "grapht = []\n",
    "for i in range(1,int(10.0/dt)+1):\n",
    "    if i % 1 != 0:\n",
    "        continue\n",
    "    t = t + dt\n",
    "    ex= ex + math.exp(t)*dt\n",
    "    grapht.append(t)\n",
    "    graphex.append(ex)\n",
    "    graphtex.append(math.exp(t))\n",
    "    if i % int(1.0/dt) == 0:\n",
    "        print(\"t:{0:.2f} ex:{1:.2f} trueEx:{2:.2f}, Δex:{3:.2f}, ({4:.2f}%)\".format(t, ex,math.exp(t), ex-math.exp(t), (ex-math.exp(t))/math.exp(t)*100.0))"
   ]
  },
  {
   "cell_type": "code",
   "execution_count": 87,
   "metadata": {
    "collapsed": false
   },
   "outputs": [
    {
     "data": {
      "text/plain": [
       "[<matplotlib.lines.Line2D at 0x1160aed30>]"
      ]
     },
     "execution_count": 87,
     "metadata": {},
     "output_type": "execute_result"
    },
    {
     "data": {
      "image/png": "[encoded data removed]",
      "text/plain": [
       "<matplotlib.figure.Figure at 0x1160ae908>"
      ]
     },
     "metadata": {},
     "output_type": "display_data"
    }
   ],
   "source": [
    "plt.plot(grapht, graphex)\n",
    "plt.plot(grapht, graphtex)"
   ]
  },
  {
   "cell_type": "markdown",
   "metadata": {},
   "source": [
    "## 三角関数\n",
    "\n",
    "\\begin{align}\n",
    "\\frac{d}{dx} \\sin x = \\cos x \\\\\n",
    "\\frac{d}{dx} \\cos x = -\\sin x \\\\\n",
    "\\end{align}\n",
    "\n",
    "### 結論\n",
    "- 微分と積分はdtが同一ならほとんど精度変わらない。"
   ]
  },
  {
   "cell_type": "code",
   "execution_count": 103,
   "metadata": {
    "collapsed": false
   },
   "outputs": [
    {
     "name": "stdout",
     "output_type": "stream",
     "text": [
      "t:1.00 Dsinx:0.50(Δ-0.043) Isinx0.50(Δ-0.042) trueCosX:0.54\n",
      "t:2.00 Dsinx:-0.46(Δ-0.045) Isinx-0.46(Δ-0.044) trueCosX:-0.42\n",
      "t:3.00 Dsinx:-1.00(Δ-0.005) Isinx-1.00(Δ-0.005) trueCosX:-0.99\n",
      "t:4.00 Dsinx:-0.61(Δ0.039) Isinx-0.61(Δ0.039) trueCosX:-0.65\n",
      "t:5.00 Dsinx:0.33(Δ0.047) Isinx0.33(Δ0.049) trueCosX:0.28\n",
      "t:6.00 Dsinx:0.97(Δ0.012) Isinx0.97(Δ0.014) trueCosX:0.96\n",
      "t:7.00 Dsinx:0.72(Δ-0.034) Isinx0.72(Δ-0.033) trueCosX:0.75\n",
      "t:8.00 Dsinx:-0.19(Δ-0.049) Isinx-0.19(Δ-0.049) trueCosX:-0.15\n",
      "t:9.00 Dsinx:-0.93(Δ-0.019) Isinx-0.93(Δ-0.019) trueCosX:-0.91\n",
      "t:10.00 Dsinx:-0.81(Δ0.029) Isinx-0.81(Δ0.029) trueCosX:-0.84\n"
     ]
    }
   ],
   "source": [
    "dt = 0.1\n",
    "t = 0.0\n",
    "Dsin = math.cos(0.0)\n",
    "Isin = math.cos(0.0)\n",
    "graphDsin = []\n",
    "graphIsin = []\n",
    "graphcos = []\n",
    "grapht = []\n",
    "for i in range(1,int(10.0/dt)+1):\n",
    "    if i % 1 != 0:\n",
    "        continue\n",
    "    t = t + dt\n",
    "    Isin = Isin - math.sin(t)*dt #積分\n",
    "    Dsin = (math.sin(t+dt) - math.sin(t)) / dt #微分\n",
    "    grapht.append(t)\n",
    "    graphDsin.append(Dsin)\n",
    "    graphIsin.append(Isin)\n",
    "    graphcos.append(math.cos(t))\n",
    "    if i % int(1.0/dt) == 0:\n",
    "        print(\"t:{0:.2f} Dsinx:{1:.2f}(Δ{2:.3f}) Isinx{3:.2f}(Δ{4:.3f}) trueCosX:{5:.2f}\".format(t, Dsin, Dsin - math.cos(t), Isin, Isin - math.cos(t), math.cos(t) ) )"
   ]
  },
  {
   "cell_type": "code",
   "execution_count": 102,
   "metadata": {
    "collapsed": false
   },
   "outputs": [
    {
     "data": {
      "text/plain": [
       "[<matplotlib.lines.Line2D at 0x1174b4f60>]"
      ]
     },
     "execution_count": 102,
     "metadata": {},
     "output_type": "execute_result"
    },
    {
     "data": {
      "image/png": "[encoded data removed]",
      "text/plain": [
       "<matplotlib.figure.Figure at 0x1163fa7f0>"
      ]
     },
     "metadata": {},
     "output_type": "display_data"
    }
   ],
   "source": [
    "plt.plot(grapht, graphcos)\n",
    "plt.plot(grapht, graphDsin)\n",
    "plt.plot(grapht, graphIsin)"
   ]
  },
  {
   "cell_type": "markdown",
   "metadata": {},
   "source": [
    "- 数式サンプル\n",
    "\n",
    "\\begin{align}\n",
    "\\dot{x} & = \\sigma(y-x) \\\\\n",
    "\\dot{y} & = \\rho x - y - xz \\\\\n",
    "\\dot{z} & = -\\beta z + xy\n",
    "\\end{align}\n",
    "\n",
    "$F = ma$"
   ]
  },
  {
   "cell_type": "code",
   "execution_count": null,
   "metadata": {
    "collapsed": true
   },
   "outputs": [],
   "source": []
  }
 ],
 "metadata": {
  "kernelspec": {
   "display_name": "Python 3",
   "language": "python",
   "name": "python3"
  },
  "language_info": {
   "codemirror_mode": {
    "name": "ipython",
    "version": 3
   },
   "file_extension": ".py",
   "mimetype": "text/x-python",
   "name": "python",
   "nbconvert_exporter": "python",
   "pygments_lexer": "ipython3",
   "version": "3.6.0"
  }
 },
 "nbformat": 4,
 "nbformat_minor": 2
}
