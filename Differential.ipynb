{
 "cells": [
  {
   "cell_type": "markdown",
   "metadata": {},
   "source": [
    "# 微分計算\n",
    "## 自由落下\n",
    "\n",
    " \\begin{align}\n",
    " F [N] = ma [kg \\cdot m/s^2]\\\\\n",
    " F = m \\frac{d^2 r}{dt^2} \\\\\n",
    " r = \\frac{1}{2} a_0t^2 + v_0t + r_0 \\\\\n",
    " (a_0 = \\frac{F}{m})\\\\\n",
    "  F\\Delta t = mat + v\n",
    " \\end{align}\n"
   ]
  },
  {
   "cell_type": "code",
   "execution_count": 5,
   "metadata": {
    "collapsed": true
   },
   "outputs": [],
   "source": [
    "import math"
   ]
  },
  {
   "cell_type": "code",
   "execution_count": 31,
   "metadata": {
    "collapsed": false,
    "scrolled": true
   },
   "outputs": [
    {
     "name": "stdout",
     "output_type": "stream",
     "text": [
      "Populating the interactive namespace from numpy and matplotlib\n"
     ]
    }
   ],
   "source": [
    "%pylab inline"
   ]
  },
  {
   "cell_type": "code",
   "execution_count": 22,
   "metadata": {
    "collapsed": true
   },
   "outputs": [],
   "source": [
    "m = 1\n",
    "g = 9.8\n",
    "dt = 0.01"
   ]
  },
  {
   "cell_type": "markdown",
   "metadata": {},
   "source": [
    " \\begin{align}\n",
    " v = -gt \\\\\n",
    " v(t+dt) = v(t) + a(=\\frac{dv}{dt}) \\cdot dt \\\\\n",
    " x = - \\frac{1}{2} gt^2 + 0 \\cdot t + 0 \\\\\n",
    " x(t+dt) = x(t) + v(=\\frac{dx}{dt}) \\cdot dt \\\\\n",
    " (g = 9.8)\n",
    " \\end{align}"
   ]
  },
  {
   "cell_type": "code",
   "execution_count": 35,
   "metadata": {
    "collapsed": false
   },
   "outputs": [
    {
     "name": "stdout",
     "output_type": "stream",
     "text": [
      "t:2.00 v:-19.60 x:-20.58, ΔX:-0.98\n",
      "t:4.00 v:-39.20 x:-80.36, ΔX:-1.96\n",
      "t:6.00 v:-58.80 x:-179.34, ΔX:-2.94\n",
      "t:8.00 v:-78.40 x:-317.52, ΔX:-3.92\n",
      "t:10.00 v:-98.00 x:-494.90, ΔX:-4.90\n",
      "t:12.00 v:-117.60 x:-711.48, ΔX:-5.88\n",
      "t:14.00 v:-137.20 x:-967.26, ΔX:-6.86\n",
      "t:16.00 v:-156.80 x:-1262.24, ΔX:-7.84\n",
      "t:18.00 v:-176.40 x:-1596.42, ΔX:-8.82\n"
     ]
    }
   ],
   "source": [
    "t = 0.0\n",
    "x = 0.0\n",
    "v = 0.0\n",
    "graphx = []\n",
    "grapht = []\n",
    "for i in range(1,1000):\n",
    "    if i % 5 != 0:\n",
    "        continue\n",
    "    t = t + dt\n",
    "    v = v - m*g*dt\n",
    "    x = x + v*dt\n",
    "    grapht.append(t)\n",
    "    graphx.append(x)\n",
    "    if i % 100 == 0:\n",
    "        print(\"t:{0:.2f} v:{1:.2f} x:{2:.2f}, ΔX:{3:.2f}\".format(t, v, x, x-(-g*t*t/2)))"
   ]
  },
  {
   "cell_type": "code",
   "execution_count": 42,
   "metadata": {
    "collapsed": false,
    "scrolled": true
   },
   "outputs": [
    {
     "data": {
      "text/plain": [
       "[<matplotlib.lines.Line2D at 0x115b3b908>]"
      ]
     },
     "execution_count": 42,
     "metadata": {},
     "output_type": "execute_result"
    },
    {
     "data": {
      "image/png": "[encoded data removed]",
      "text/plain": [
       "<matplotlib.figure.Figure at 0x11597fda0>"
      ]
     },
     "metadata": {},
     "output_type": "display_data"
    }
   ],
   "source": [
    "plt.plot(grapht, graphx)\n",
    "plt.plot(grapht, graphv)"
   ]
  },
  {
   "cell_type": "markdown",
   "metadata": {},
   "source": [
    "\\begin{align} \\\\\n",
    "m\\frac{d^2x}{dt^2} = - mg - \\gamma v \\\\\n",
    "v(t+dt) = v(t) + (-g-\\frac{\\gamma}{m} v(t)) \\cdot dt \\\\\n",
    "\\end{align}"
   ]
  },
  {
   "cell_type": "code",
   "execution_count": 41,
   "metadata": {
    "collapsed": false
   },
   "outputs": [
    {
     "name": "stdout",
     "output_type": "stream",
     "text": [
      "t:10.00 v:-62.13 x:-364.92, ΔX:187.20\n",
      "t:20.00 v:-84.87 x:-1119.79, ΔX:1009.95\n",
      "t:30.00 v:-93.19 x:-2017.38, ΔX:2672.20\n",
      "t:40.00 v:-96.24 x:-2967.22, ΔX:5257.75\n",
      "t:50.00 v:-97.36 x:-3936.17, ΔX:8800.61\n",
      "t:60.00 v:-97.76 x:-4912.13, ΔX:13314.45\n",
      "t:70.00 v:-97.91 x:-5890.65, ΔX:18804.74\n",
      "t:80.00 v:-97.97 x:-6870.11, ΔX:25273.63\n",
      "t:90.00 v:-97.99 x:-7849.91, ΔX:32721.98\n"
     ]
    }
   ],
   "source": [
    "#空気抵抗の有る場合\n",
    "gamma = 0.1\n",
    "t = 0.0\n",
    "x = 0.0\n",
    "v = 0.0\n",
    "graphv = []\n",
    "grapht = []\n",
    "for i in range(1,1000):\n",
    "    if i % 1 != 0:\n",
    "        continue\n",
    "    t = t + dt\n",
    "    v = v + (-m*g - gamma*v)*dt\n",
    "    x = x + v*dt\n",
    "    grapht.append(t)\n",
    "    graphv.append(v)\n",
    "    if i % 100 == 0:\n",
    "        print(\"t:{0:.2f} v:{1:.2f} x:{2:.2f}, ΔX:{3:.2f}\".format(t, v, x, x-(-g*t*t/2+gamma/m*v*t)))"
   ]
  },
  {
   "cell_type": "code",
   "execution_count": 42,
   "metadata": {
    "collapsed": false,
    "scrolled": true
   },
   "outputs": [
    {
     "data": {
      "text/plain": [
       "[<matplotlib.lines.Line2D at 0x115b3b908>]"
      ]
     },
     "execution_count": 42,
     "metadata": {},
     "output_type": "execute_result"
    },
    {
     "data": {
      "image/png": "[encoded data removed]",
      "text/plain": [
       "<matplotlib.figure.Figure at 0x11597fda0>"
      ]
     },
     "metadata": {},
     "output_type": "display_data"
    }
   ],
   "source": [
    "#plt.plot(grapht, graphx)\n",
    "plt.plot(grapht, graphv)"
   ]
  },
  {
   "cell_type": "markdown",
   "metadata": {},
   "source": [
    "- 数式サンプル\n",
    "\n",
    "\\begin{align}\n",
    "\\dot{x} & = \\sigma(y-x) \\\\\n",
    "\\dot{y} & = \\rho x - y - xz \\\\\n",
    "\\dot{z} & = -\\beta z + xy\n",
    "\\end{align}\n",
    "\n",
    "$F = ma$"
   ]
  },
  {
   "cell_type": "code",
   "execution_count": null,
   "metadata": {
    "collapsed": true
   },
   "outputs": [],
   "source": []
  }
 ],
 "metadata": {
  "kernelspec": {
   "display_name": "Python 3",
   "language": "python",
   "name": "python3"
  },
  "language_info": {
   "codemirror_mode": {
    "name": "ipython",
    "version": 3
   },
   "file_extension": ".py",
   "mimetype": "text/x-python",
   "name": "python",
   "nbconvert_exporter": "python",
   "pygments_lexer": "ipython3",
   "version": "3.6.0"
  }
 },
 "nbformat": 4,
 "nbformat_minor": 2
}
