{
 "cells": [
  {
   "cell_type": "markdown",
   "metadata": {},
   "source": [
    "### レンズ"
   ]
  },
  {
   "cell_type": "code",
   "execution_count": 3,
   "metadata": {
    "collapsed": false
   },
   "outputs": [
    {
     "name": "stdout",
     "output_type": "stream",
     "text": [
      "Populating the interactive namespace from numpy and matplotlib\n"
     ]
    }
   ],
   "source": [
    "%pylab inline"
   ]
  },
  {
   "cell_type": "code",
   "execution_count": 101,
   "metadata": {
    "collapsed": false
   },
   "outputs": [
    {
     "data": {
      "text/plain": [
       "<module 'RayMatrix' from '/Users/norifumi/Git/differential/RayMatrix.py'>"
      ]
     },
     "execution_count": 101,
     "metadata": {},
     "output_type": "execute_result"
    }
   ],
   "source": [
    "import math\n",
    "import RayMatrix as rmat\n",
    "from Snell import snell\n",
    "import importlib\n",
    "importlib.reload(rmat)\n",
    "#math.atan2?"
   ]
  },
  {
   "cell_type": "code",
   "execution_count": 103,
   "metadata": {
    "collapsed": true
   },
   "outputs": [],
   "source": [
    "# 球面を描く\n",
    "def plot_sphereL(R, plotm):\n",
    "    x = []\n",
    "    y = []\n",
    "    ymax = 10.0\n",
    "    if R < ymax:\n",
    "        ymax = R\n",
    "    # x^2 + y^2 = R^2\n",
    "    cx = math.sqrt(R*R - ymax*ymax)\n",
    "    for yi in range(-int(ymax*10), int(ymax*10)):\n",
    "        yf = yi / 10.0\n",
    "        x.append(-math.sqrt(R*R - yf*yf) + cx)\n",
    "        y.append(yf)\n",
    "    plotm.plot(x,y, 'b')\n",
    "    plotm.plot(R, 0, 'b.')"
   ]
  },
  {
   "cell_type": "code",
   "execution_count": 104,
   "metadata": {
    "collapsed": true
   },
   "outputs": [],
   "source": [
    "# 球面を描く\n",
    "def plot_sphereR(R, plotm):\n",
    "    x = []\n",
    "    y = []\n",
    "    ymax = 10.0\n",
    "    if R < ymax:\n",
    "        ymax = R\n",
    "    # x^2 + y^2 = R^2\n",
    "    cx = -math.sqrt(R*R - ymax*ymax)\n",
    "    for yi in range(-int(ymax*10), int(ymax*10)):\n",
    "        yf = yi / 10.0\n",
    "        x.append(math.sqrt(R*R - yf*yf) + cx)\n",
    "        y.append(yf)\n",
    "    plotm.plot(x,y, 'b')\n",
    "    plotm.plot(-R, 0, 'b.')"
   ]
  },
  {
   "cell_type": "code",
   "execution_count": 7,
   "metadata": {
    "collapsed": true
   },
   "outputs": [],
   "source": [
    "def lens_theta(R, y, n1, n2):\n",
    "    if y < 0 or y > R:\n",
    "        print(\"invalid y\")\n",
    "        return -999\n",
    "    x = math.sqrt(R*R - y*y)\n",
    "    angle = math.atan2(y, x)\n",
    "    incid = angle\n",
    "    refra = snell(n1, n2, incid)\n",
    "    return - (math.radians(90) - refra)"
   ]
  },
  {
   "cell_type": "code",
   "execution_count": 105,
   "metadata": {
    "collapsed": false
   },
   "outputs": [
    {
     "name": "stdout",
     "output_type": "stream",
     "text": [
      "frontFocus:40.00\n",
      "θ1:14.04, θ2:-0.19\n",
      "θ1:0.00, θ2:-9.55\n"
     ]
    },
    {
     "data": {
      "image/png": "[encoded data removed]",
      "text/plain": [
       "<matplotlib.figure.Figure at 0x10cbf61d0>"
      ]
     },
     "metadata": {},
     "output_type": "display_data"
    }
   ],
   "source": [
    "# 左側凸レンズ\n",
    "R = 20\n",
    "fFocus = rmat.focusLConvex(AIR_N, GLASS_N, R)\n",
    "sx = -fFocus\n",
    "ex = 50\n",
    "y1  = 10\n",
    "th1 = math.atan2(y1, -sx)\n",
    "plot_sphereL(R, plt)\n",
    "\n",
    "print(\"frontFocus:{0:.2f}\".format(fFocus))\n",
    "\n",
    "# 焦点から入射\n",
    "y, th = rmat.refracLConvex(y1, th1, AIR_N, GLASS_N, R)\n",
    "plt.plot([sx, 0, ex], [0, y1, y1 + ex*math.sin(th)])\n",
    "print(\"θ1:{0:.2f}, θ2:{1:.2f}\".format(math.degrees(th1), math.degrees(th)))\n",
    "\n",
    "# 平行入射\n",
    "y, th = rmat.refracLConvex(y1, 0.0, AIR_N, GLASS_N, R)\n",
    "plt.plot([sx, 0, ex], [y1, y1, y + ex*math.sin(th)])\n",
    "print(\"θ1:{0:.2f}, θ2:{1:.2f}\".format(0.0, math.degrees(th)))\n",
    "\n",
    "plt.xlim(-40, 60)\n",
    "plt.ylim(-20, 20)\n",
    "plt.hlines([0], -50, 100)\n",
    "plt.gca().set_aspect('equal', adjustable='box')\n",
    "plt.show()"
   ]
  },
  {
   "cell_type": "code",
   "execution_count": 107,
   "metadata": {
    "collapsed": false
   },
   "outputs": [
    {
     "name": "stdout",
     "output_type": "stream",
     "text": [
      "rearFocus:40.00\n",
      "θ1:0.00, θ2:-14.32\n"
     ]
    },
    {
     "data": {
      "image/png": "[encoded data removed]",
      "text/plain": [
       "<matplotlib.figure.Figure at 0x10cca0fd0>"
      ]
     },
     "metadata": {},
     "output_type": "display_data"
    }
   ],
   "source": [
    "# 右側凸レンズ\n",
    "R = 20\n",
    "rFocus = rmat.focusRConvex(GLASS_N, AIR_N, R)\n",
    "sx = -20\n",
    "ex = rFocus\n",
    "y1  = 10\n",
    "th1 = 0.0\n",
    "plot_sphereR(R, plt)\n",
    "print(\"rearFocus:{0:.2f}\".format(rFocus))\n",
    "\n",
    "# 平行入射\n",
    "y, th = rmat.refracRConvex(y1, th1, GLASS_N, AIR_N, R)\n",
    "plt.plot([sx, 0, ex], [y1, y1, y + ex*math.sin(th)])\n",
    "print(\"θ1:{0:.2f}, θ2:{1:.2f}\".format(math.degrees(th1), math.degrees(th)))\n",
    "\n",
    "plt.xlim(-40, 60)\n",
    "plt.ylim(-20, 20)\n",
    "plt.hlines([0], -50, 100)\n",
    "plt.gca().set_aspect('equal', adjustable='box')\n",
    "plt.show()"
   ]
  },
  {
   "cell_type": "code",
   "execution_count": 123,
   "metadata": {
    "collapsed": false
   },
   "outputs": [
    {
     "name": "stdout",
     "output_type": "stream",
     "text": [
      "focus:20.00\n"
     ]
    },
    {
     "data": {
      "image/png": "[encoded data removed]",
      "text/plain": [
       "<matplotlib.figure.Figure at 0x10d29b470>"
      ]
     },
     "metadata": {},
     "output_type": "display_data"
    }
   ],
   "source": [
    "# 薄肉レンズ (微妙にずれるのは近軸近似のせい？)\n",
    "R = 20\n",
    "focus = rmat.focusConvex(AIR_N, GLASS_N, R)\n",
    "sx = -2*focus\n",
    "ex = 2*focus\n",
    "y1  = 10\n",
    "th1 = 0.0\n",
    "plot_sphereL(R, plt)\n",
    "plot_sphereR(R, plt)\n",
    "print(\"focus:{0:.2f}\".format(focus))\n",
    "\n",
    "# 平行入射光線\n",
    "#y, th = rmat.refracConvex(y1, th1, focus)\n",
    "y, th = rmat.refracConvex2(y1, th1, AIR_N, GLASS_N, R)\n",
    "plt.plot([sx, 0, ex], [y1, y1, y + ex*math.sin(th)], label=\"θ1:{0:.2f}, θ2:{1:.2f}\".format(math.degrees(th1), math.degrees(th)))\n",
    "\n",
    "# レンズ中心を通る光線\n",
    "y, th = rmat.refracConvex(0.0, math.atan2(-y1, 2*focus), focus)\n",
    "plt.plot([sx, 0, ex], [y1, 0.0, y + ex*math.sin(th)], label=\"θ1:{0:.2f}, θ2:{1:.2f}\".format(math.degrees(math.atan2(-y1, 2*focus)), math.degrees(th)))\n",
    "\n",
    "# 焦点を通って入射する光線\n",
    "y, th = rmat.refracConvex(-y1, math.atan2(-y1*2, 2*focus), focus)\n",
    "plt.plot([sx, 0, ex], [y1, -y1, y + ex*math.sin(th)], label=\"θ1:{0:.2f}, θ2:{1:.2f}\".format(math.degrees(math.atan2(-y1, focus)), math.degrees(th)))\n",
    "\n",
    "# 適当な入射光線\n",
    "y, th = rmat.refracConvex(y1/2.0, math.atan2(-y1/2, 2*focus), focus)\n",
    "plt.plot([sx, 0, ex], [y1, y1/2.0, y + ex*math.sin(th)], label=\"θ1:{0:.2f}, θ2:{1:.2f}\".format(math.degrees(math.atan2(y1/2.0, focus)), math.degrees(th)))\n",
    "\n",
    "plt.plot([-focus, focus], [0, 0], 'ro')\n",
    "plt.xlim(-2.5*focus, 3*focus)\n",
    "plt.ylim(-20, 30)\n",
    "plt.hlines([0], -2.5*focus, 3*focus)\n",
    "plt.gca().set_aspect('equal', adjustable='box')\n",
    "plt.title(\"Convex Lens\")\n",
    "plt.legend()\n",
    "plt.show()"
   ]
  },
  {
   "cell_type": "code",
   "execution_count": null,
   "metadata": {
    "collapsed": true
   },
   "outputs": [],
   "source": []
  }
 ],
 "metadata": {
  "kernelspec": {
   "display_name": "Python 3",
   "language": "python",
   "name": "python3"
  },
  "language_info": {
   "codemirror_mode": {
    "name": "ipython",
    "version": 3
   },
   "file_extension": ".py",
   "mimetype": "text/x-python",
   "name": "python",
   "nbconvert_exporter": "python",
   "pygments_lexer": "ipython3",
   "version": "3.6.0"
  }
 },
 "nbformat": 4,
 "nbformat_minor": 2
}
