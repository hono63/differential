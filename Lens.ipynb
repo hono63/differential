{
 "cells": [
  {
   "cell_type": "markdown",
   "metadata": {},
   "source": [
    "### レンズ"
   ]
  },
  {
   "cell_type": "code",
   "execution_count": 3,
   "metadata": {
    "collapsed": false
   },
   "outputs": [
    {
     "name": "stdout",
     "output_type": "stream",
     "text": [
      "Populating the interactive namespace from numpy and matplotlib\n"
     ]
    }
   ],
   "source": [
    "%pylab inline"
   ]
  },
  {
   "cell_type": "code",
   "execution_count": 30,
   "metadata": {
    "collapsed": false
   },
   "outputs": [
    {
     "data": {
      "text/plain": [
       "<module 'RayMatrix' from '/Users/norifumi/Git/differential/RayMatrix.py'>"
      ]
     },
     "execution_count": 30,
     "metadata": {},
     "output_type": "execute_result"
    }
   ],
   "source": [
    "import math\n",
    "import RayMatrix as rmat\n",
    "import importlib\n",
    "importlib.reload(rmat)\n",
    "#math.atan2?"
   ]
  },
  {
   "cell_type": "code",
   "execution_count": 5,
   "metadata": {
    "collapsed": true
   },
   "outputs": [],
   "source": [
    "# 球面を描く\n",
    "def plot_sphere(R, cx, plotm):\n",
    "    x = []\n",
    "    y = []\n",
    "    if R < 10:\n",
    "        print(\"R must be >= 10\")\n",
    "        return\n",
    "    # x^2 + y^2 = R^2\n",
    "    for yi in range(-100, 100):\n",
    "        yf = yi / 10.0\n",
    "        x.append(-math.sqrt(R*R - yf*yf) + cx)\n",
    "        y.append(yf)\n",
    "    plotm.plot(x,y, 'b')\n",
    "    plotm.plot(cx, 0, 'b.')"
   ]
  },
  {
   "cell_type": "code",
   "execution_count": 6,
   "metadata": {
    "collapsed": true
   },
   "outputs": [],
   "source": [
    "def snell(n1, n2, rad1):\n",
    "    sin2 = math.sin(rad1) * n2 / n1\n",
    "    if sin2 <= 1.0 and sin2 >= -1.0:\n",
    "        return math.asin(sin2)\n",
    "    else:\n",
    "        return -rad1"
   ]
  },
  {
   "cell_type": "code",
   "execution_count": 7,
   "metadata": {
    "collapsed": true
   },
   "outputs": [],
   "source": [
    "def lens_theta(R, y, n1, n2):\n",
    "    if y < 0 or y > R:\n",
    "        print(\"invalid y\")\n",
    "        return -999\n",
    "    x = math.sqrt(R*R - y*y)\n",
    "    angle = math.atan2(y, x)\n",
    "    incid = angle\n",
    "    refra = snell(n1, n2, incid)\n",
    "    return - (math.radians(90) - refra)"
   ]
  },
  {
   "cell_type": "code",
   "execution_count": 8,
   "metadata": {
    "collapsed": true
   },
   "outputs": [],
   "source": [
    "# 屈折率n\n",
    "#WATER_N = 1.333\n",
    "GLASS_N = 1.5\n",
    "AIR_N = 1.0"
   ]
  },
  {
   "cell_type": "code",
   "execution_count": null,
   "metadata": {
    "collapsed": true
   },
   "outputs": [],
   "source": [
    "# pyで保存。\n",
    "import subprocess\n",
    "subprocess.run(['jupyter', 'nbconvert', '--to', 'python', 'Lens.ipynb'])"
   ]
  },
  {
   "cell_type": "code",
   "execution_count": 34,
   "metadata": {
    "collapsed": false
   },
   "outputs": [
    {
     "name": "stdout",
     "output_type": "stream",
     "text": [
      "θ:-9.55\n",
      "f:40.00\n"
     ]
    },
    {
     "data": {
      "image/png": "[encoded data removed]",
      "text/plain": [
       "<matplotlib.figure.Figure at 0x10cd4bf28>"
      ]
     },
     "metadata": {},
     "output_type": "display_data"
    }
   ],
   "source": [
    "R = 20\n",
    "y1  = 10\n",
    "y2 = 5\n",
    "plot_sphere(R, R, plt)\n",
    "#plt.plot([-50, 0, 50], [y1, y1, y1 + 50*math.sin(lens_theta(R, y1, AIR_N, GLASS_N))])\n",
    "y, th = rmat.refracLConvex(y1, 0.0, AIR_N, GLASS_N, R)\n",
    "print(\"θ:{0:.2f}\".format(math.degrees(th)))\n",
    "print(\"f:{0:.2f}\".format(rmat.focusLConvex(AIR_N, GLASS_N, R)))\n",
    "plt.plot([-50, 0, 50], [y1, y1, y1 + 50*math.sin(th)])\n",
    "#plt.plot([-50, 0, 50], [10, 0, -10])\n",
    "#plt.plot([-50, 0, 50], [y2, y2, y2 + 50*math.sin(lens_theta(R, y2, AIR_N, GLASS_N))])\n",
    "plt.xlim(-20, 60)\n",
    "plt.ylim(-20, 20)\n",
    "plt.hlines([0], -50, 100)\n",
    "plt.gca().set_aspect('equal', adjustable='box')\n",
    "plt.show()"
   ]
  },
  {
   "cell_type": "code",
   "execution_count": null,
   "metadata": {
    "collapsed": true
   },
   "outputs": [],
   "source": []
  }
 ],
 "metadata": {
  "kernelspec": {
   "display_name": "Python 3",
   "language": "python",
   "name": "python3"
  },
  "language_info": {
   "codemirror_mode": {
    "name": "ipython",
    "version": 3
   },
   "file_extension": ".py",
   "mimetype": "text/x-python",
   "name": "python",
   "nbconvert_exporter": "python",
   "pygments_lexer": "ipython3",
   "version": "3.6.0"
  }
 },
 "nbformat": 4,
 "nbformat_minor": 2
}
