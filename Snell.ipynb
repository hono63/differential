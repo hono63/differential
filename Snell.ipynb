{
 "cells": [
  {
   "cell_type": "markdown",
   "metadata": {},
   "source": [
    " ### スネルの法則\n",
    " \n",
    " \\begin{align}\n",
    " \\frac{n_1}{n_2} = \\frac{\\sin \\theta_1}{\\sin \\theta_2} \\\\\n",
    " \\end{align}"
   ]
  },
  {
   "cell_type": "code",
   "execution_count": 1,
   "metadata": {
    "collapsed": false,
    "scrolled": true
   },
   "outputs": [
    {
     "name": "stdout",
     "output_type": "stream",
     "text": [
      "Populating the interactive namespace from numpy and matplotlib\n"
     ]
    }
   ],
   "source": [
    "%pylab inline"
   ]
  },
  {
   "cell_type": "code",
   "execution_count": 2,
   "metadata": {
    "collapsed": true
   },
   "outputs": [],
   "source": [
    "import math"
   ]
  },
  {
   "cell_type": "code",
   "execution_count": 17,
   "metadata": {
    "collapsed": false
   },
   "outputs": [],
   "source": [
    "def snell(n1, n2, rad1):\n",
    "    sin2 = math.sin(rad1) * n2 / n1\n",
    "    if sin2 <= 1.0 and sin2 >= -1.0:\n",
    "        return math.asin(sin2)\n",
    "    else:\n",
    "        return -rad1"
   ]
  },
  {
   "cell_type": "code",
   "execution_count": 18,
   "metadata": {
    "collapsed": true
   },
   "outputs": [],
   "source": [
    "# 屈折率n\n",
    "GLASS_N = 1.333\n",
    "AIR_N = 1.0"
   ]
  },
  {
   "cell_type": "code",
   "execution_count": 35,
   "metadata": {
    "collapsed": false
   },
   "outputs": [],
   "source": [
    "def snell_plot(n1, n2, deg1, plt):\n",
    "    rad1 = math.radians(deg1)\n",
    "    rad2 = snell(n1, n2, rad1)\n",
    "    x = [-math.cos(rad1), 0, math.cos(rad2)]\n",
    "    y = [math.sin(rad1), 0, -math.sin(rad2)]\n",
    "    deg2 = math.degrees(rad2)\n",
    "    text = str(deg1) + \" -> \" + \"{0:.2f}\".format(deg2) + \"[deg]\"\n",
    "    plt.plot(x, y, \"o\",label=text)"
   ]
  },
  {
   "cell_type": "code",
   "execution_count": 36,
   "metadata": {
    "collapsed": false,
    "scrolled": true
   },
   "outputs": [
    {
     "data": {
      "image/png": "[encoded data removed]",
      "text/plain": [
       "<matplotlib.figure.Figure at 0x116efb320>"
      ]
     },
     "metadata": {},
     "output_type": "display_data"
    }
   ],
   "source": [
    "snell_plot(AIR_N, GLASS_N, 10, plt)\n",
    "snell_plot(AIR_N, GLASS_N, 30, plt)\n",
    "snell_plot(AIR_N, GLASS_N, 45, plt)\n",
    "snell_plot(AIR_N, GLASS_N, 47, plt)\n",
    "snell_plot(AIR_N, GLASS_N, 60, plt)\n",
    "plt.hlines([0], -1, 1)\n",
    "plt.vlines([0], -1, 1, linestyles=\"dashed\")\n",
    "plt.legend()\n",
    "plt.show()"
   ]
  },
  {
   "cell_type": "code",
   "execution_count": null,
   "metadata": {
    "collapsed": true
   },
   "outputs": [],
   "source": []
  }
 ],
 "metadata": {
  "kernelspec": {
   "display_name": "Python 3",
   "language": "python",
   "name": "python3"
  },
  "language_info": {
   "codemirror_mode": {
    "name": "ipython",
    "version": 3
   },
   "file_extension": ".py",
   "mimetype": "text/x-python",
   "name": "python",
   "nbconvert_exporter": "python",
   "pygments_lexer": "ipython3",
   "version": "3.6.0"
  }
 },
 "nbformat": 4,
 "nbformat_minor": 2
}
