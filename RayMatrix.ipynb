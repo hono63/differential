{
 "cells": [
  {
   "cell_type": "markdown",
   "metadata": {},
   "source": [
    "### 光線行列\n",
    "- またはABCD行列\n",
    "\n",
    " \\begin{align}\n",
    " \\begin{pmatrix}\n",
    " y_2 \\\\\n",
    " \\theta_2\n",
    " \\end{pmatrix} = \n",
    " \\begin{pmatrix}\n",
    " A & B \\\\\n",
    " C & D\n",
    " \\end{pmatrix}\n",
    " \\begin{pmatrix}\n",
    " y_1 \\\\\n",
    " \\theta_1\n",
    " \\end{pmatrix}\n",
    " \\end{align}\n",
    " \n",
    " - 数式の書き方   \n",
    "  http://jupyter-notebook.readthedocs.io/en/latest/examples/Notebook/Typesetting%20Equations.html"
   ]
  },
  {
   "cell_type": "code",
   "execution_count": null,
   "metadata": {
    "collapsed": true
   },
   "outputs": [],
   "source": []
  }
 ],
 "metadata": {
  "kernelspec": {
   "display_name": "Python 3",
   "language": "python",
   "name": "python3"
  },
  "language_info": {
   "codemirror_mode": {
    "name": "ipython",
    "version": 3
   },
   "file_extension": ".py",
   "mimetype": "text/x-python",
   "name": "python",
   "nbconvert_exporter": "python",
   "pygments_lexer": "ipython3",
   "version": "3.6.0"
  }
 },
 "nbformat": 4,
 "nbformat_minor": 2
}
