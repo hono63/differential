{
 "cells": [
  {
   "cell_type": "markdown",
   "metadata": {},
   "source": [
    "## 光線行列\n",
    "- またはABCD行列\n",
    "\n",
    " \\begin{align}\n",
    " \\begin{pmatrix}\n",
    " y_2 \\\\\n",
    " \\theta_2\n",
    " \\end{pmatrix} = \n",
    " \\begin{pmatrix}\n",
    " A & B \\\\\n",
    " C & D\n",
    " \\end{pmatrix}\n",
    " \\begin{pmatrix}\n",
    " y_1 \\\\\n",
    " \\theta_1\n",
    " \\end{pmatrix}\n",
    " \\end{align}\n",
    " \n",
    " - 数式の書き方   \n",
    "  http://jupyter-notebook.readthedocs.io/en/latest/examples/Notebook/Typesetting%20Equations.html   \n",
    "  こことか https://kogler.wordpress.com/2008/03/21/latex-use-of-math-symbols-formulas-and-equations/"
   ]
  },
  {
   "cell_type": "code",
   "execution_count": 10,
   "metadata": {
    "collapsed": false
   },
   "outputs": [],
   "source": [
    "import math"
   ]
  },
  {
   "cell_type": "markdown",
   "metadata": {},
   "source": [
    "### 移行行列\n",
    " \\begin{align}\n",
    "y_2 = y_1 + d \\tan \\theta_1 \\\\\n",
    "\\approx y_1 + d \\theta_1 \\\\\n",
    "\\theta_1 = \\theta_2\n",
    " \\end{align}\n",
    " \n",
    "  \\begin{align}\n",
    " \\begin{pmatrix}\n",
    " y_2 \\\\\n",
    " \\theta_2\n",
    " \\end{pmatrix} = \n",
    " \\begin{pmatrix}\n",
    " 1 & d \\\\\n",
    " 0 & 1\n",
    " \\end{pmatrix}\n",
    " \\begin{pmatrix}\n",
    " y_1 \\\\\n",
    " \\theta_1\n",
    " \\end{pmatrix}\n",
    " \\end{align}"
   ]
  },
  {
   "cell_type": "code",
   "execution_count": 7,
   "metadata": {
    "collapsed": true
   },
   "outputs": [],
   "source": [
    "def move(y1, th1, d):\n",
    "    y2 = y1 + d * math.tan(th1)\n",
    "    th2 = th1\n",
    "    return y2, th2"
   ]
  },
  {
   "cell_type": "markdown",
   "metadata": {},
   "source": [
    "### 平面での屈折行列 \n",
    " \n",
    " \\begin{align}\n",
    " \\begin{pmatrix}\n",
    " y_2 \\\\\n",
    " \\theta_2\n",
    " \\end{pmatrix} = \n",
    " \\begin{pmatrix}\n",
    " 1 & 0 \\\\\n",
    " 0 & \\frac{n_1}{n_2}\n",
    " \\end{pmatrix}\n",
    " \\begin{pmatrix}\n",
    " y_1 \\\\\n",
    " \\theta_1\n",
    " \\end{pmatrix}\n",
    " \\end{align}"
   ]
  },
  {
   "cell_type": "code",
   "execution_count": 8,
   "metadata": {
    "collapsed": true
   },
   "outputs": [],
   "source": [
    "def refracPlain(y1, th1, n1, n2):\n",
    "    y2 = y1\n",
    "    th2 = th1 * n1 / n2\n",
    "    return y2, th2"
   ]
  },
  {
   "cell_type": "markdown",
   "metadata": {},
   "source": [
    "### 左凸レンズでの屈折\n",
    "\n",
    " \\begin{align}\n",
    " \\begin{pmatrix}\n",
    " y_2 \\\\\n",
    " \\theta_2\n",
    " \\end{pmatrix} = \n",
    " \\begin{pmatrix}\n",
    " 1 & 0 \\\\\n",
    " -\\frac{n_2-n_1}{Rn_2} & \\frac{n_1}{n_2}\n",
    " \\end{pmatrix}\n",
    " \\begin{pmatrix}\n",
    " y_1 \\\\\n",
    " \\theta_1\n",
    " \\end{pmatrix}\n",
    " \\end{align}"
   ]
  },
  {
   "cell_type": "code",
   "execution_count": 9,
   "metadata": {
    "collapsed": true
   },
   "outputs": [],
   "source": [
    "def refracLConvex(y1, th1, n1, n2, R):\n",
    "    y2 = y1\n",
    "    th2 = - y1 * (n2 - n1) / (R * n2) + th1 * n1 / n2\n",
    "    return y2, th2"
   ]
  },
  {
   "cell_type": "markdown",
   "metadata": {},
   "source": []
  }
 ],
 "metadata": {
  "kernelspec": {
   "display_name": "Python 3",
   "language": "python",
   "name": "python3"
  },
  "language_info": {
   "codemirror_mode": {
    "name": "ipython",
    "version": 3
   },
   "file_extension": ".py",
   "mimetype": "text/x-python",
   "name": "python",
   "nbconvert_exporter": "python",
   "pygments_lexer": "ipython3",
   "version": "3.6.0"
  }
 },
 "nbformat": 4,
 "nbformat_minor": 2
}
