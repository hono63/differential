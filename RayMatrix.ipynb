{
 "cells": [
  {
   "cell_type": "markdown",
   "metadata": {},
   "source": [
    "## 光線行列\n",
    "- またはABCD行列\n",
    "\n",
    " \\begin{align}\n",
    " \\begin{pmatrix}\n",
    " y_2 \\\\\n",
    " \\theta_2\n",
    " \\end{pmatrix} = \n",
    " \\begin{pmatrix}\n",
    " A & B \\\\\n",
    " C & D\n",
    " \\end{pmatrix}\n",
    " \\begin{pmatrix}\n",
    " y_1 \\\\\n",
    " \\theta_1\n",
    " \\end{pmatrix}\n",
    " \\end{align}\n",
    " \n",
    " - 数式の書き方   \n",
    "  http://jupyter-notebook.readthedocs.io/en/latest/examples/Notebook/Typesetting%20Equations.html   \n",
    "  こことか https://kogler.wordpress.com/2008/03/21/latex-use-of-math-symbols-formulas-and-equations/"
   ]
  },
  {
   "cell_type": "code",
   "execution_count": 24,
   "metadata": {
    "collapsed": false
   },
   "outputs": [],
   "source": [
    "import math\n",
    "from Snell import snell"
   ]
  },
  {
   "cell_type": "markdown",
   "metadata": {},
   "source": [
    "### 移行行列\n",
    " \\begin{align}\n",
    "y_2 = y_1 + d \\tan \\theta_1 \\\\\n",
    "\\approx y_1 + d \\theta_1 \\\\\n",
    "\\theta_1 = \\theta_2\n",
    " \\end{align}\n",
    " \n",
    "  \\begin{align}\n",
    " \\begin{pmatrix}\n",
    " y_2 \\\\\n",
    " \\theta_2\n",
    " \\end{pmatrix} = \n",
    " \\begin{pmatrix}\n",
    " 1 & d \\\\\n",
    " 0 & 1\n",
    " \\end{pmatrix}\n",
    " \\begin{pmatrix}\n",
    " y_1 \\\\\n",
    " \\theta_1\n",
    " \\end{pmatrix}\n",
    " \\end{align}"
   ]
  },
  {
   "cell_type": "code",
   "execution_count": 7,
   "metadata": {
    "collapsed": true
   },
   "outputs": [],
   "source": [
    "def move(y1, th1, d):\n",
    "    y2 = y1 + d * math.tan(th1)\n",
    "    th2 = th1\n",
    "    return y2, th2"
   ]
  },
  {
   "cell_type": "markdown",
   "metadata": {},
   "source": [
    "### 平面での屈折行列 \n",
    " \n",
    " \\begin{align}\n",
    " \\begin{pmatrix}\n",
    " y_2 \\\\\n",
    " \\theta_2\n",
    " \\end{pmatrix} = \n",
    " \\begin{pmatrix}\n",
    " 1 & 0 \\\\\n",
    " 0 & \\frac{n_1}{n_2}\n",
    " \\end{pmatrix}\n",
    " \\begin{pmatrix}\n",
    " y_1 \\\\\n",
    " \\theta_1\n",
    " \\end{pmatrix}\n",
    " \\end{align}"
   ]
  },
  {
   "cell_type": "code",
   "execution_count": 8,
   "metadata": {
    "collapsed": true
   },
   "outputs": [],
   "source": [
    "def refracPlain(y1, th1, n1, n2):\n",
    "    y2 = y1\n",
    "    th2 = th1 * n1 / n2\n",
    "    return y2, th2"
   ]
  },
  {
   "cell_type": "markdown",
   "metadata": {},
   "source": [
    "### 左凸レンズでの屈折\n",
    "\n",
    " \\begin{align}\n",
    " \\begin{pmatrix}\n",
    " y_2 \\\\\n",
    " \\theta_2\n",
    " \\end{pmatrix} = \n",
    " \\begin{pmatrix}\n",
    " 1 & 0 \\\\\n",
    " -\\frac{n_2-n_1}{Rn_2} & \\frac{n_1}{n_2}\n",
    " \\end{pmatrix}\n",
    " \\begin{pmatrix}\n",
    " y_1 \\\\\n",
    " \\theta_1\n",
    " \\end{pmatrix}\n",
    " \\end{align}"
   ]
  },
  {
   "cell_type": "code",
   "execution_count": 9,
   "metadata": {
    "collapsed": true
   },
   "outputs": [],
   "source": [
    "def refracLConvex(y1, th1, n1, n2, R):\n",
    "    y2 = y1\n",
    "    th2 = - y1 * (n2 - n1) / (R * n2) + th1 * n1 / n2\n",
    "    return y2, th2"
   ]
  },
  {
   "cell_type": "code",
   "execution_count": 32,
   "metadata": {
    "collapsed": true
   },
   "outputs": [],
   "source": [
    "# 左凸レンズの前側焦点距離\n",
    "def focusLConvex(n1, n2, R):\n",
    "    return R * n1 / (n2 - n1)"
   ]
  },
  {
   "cell_type": "markdown",
   "metadata": {},
   "source": [
    "### 右凸レンズでの屈折\n",
    "\n",
    "左凸レンズと同一？\n",
    "\n",
    " \\begin{align}\n",
    " \\begin{pmatrix}\n",
    " y_2 \\\\\n",
    " \\theta_2\n",
    " \\end{pmatrix} = \n",
    " \\begin{pmatrix}\n",
    " 1 & 0 \\\\\n",
    " -\\frac{n_2-n_1}{Rn_2} & \\frac{n_1}{n_2}\n",
    " \\end{pmatrix}\n",
    " \\begin{pmatrix}\n",
    " y_1 \\\\\n",
    " \\theta_1\n",
    " \\end{pmatrix}\n",
    " \\end{align}"
   ]
  },
  {
   "cell_type": "code",
   "execution_count": 30,
   "metadata": {
    "collapsed": true
   },
   "outputs": [],
   "source": [
    "def refracRConvex(y1, th1, n1, n2, R):\n",
    "    y2 = y1\n",
    "    th2 = - y1 * (n2 - n1) / (R * n2) + th1 * n1 / n2\n",
    "    return y2, th2"
   ]
  },
  {
   "cell_type": "code",
   "execution_count": 31,
   "metadata": {
    "collapsed": true
   },
   "outputs": [],
   "source": [
    "# 右凸レンズの後ろ側焦点距離\n",
    "def focusRConvex(n1, n2, R):\n",
    "    return R * n2 / (n2 - n1)"
   ]
  },
  {
   "cell_type": "markdown",
   "metadata": {},
   "source": [
    "### 薄肉レンズでの屈折\n",
    "\n",
    " \\begin{align}\n",
    " \\begin{pmatrix}\n",
    " y_2 \\\\\n",
    " \\theta_2\n",
    " \\end{pmatrix} = \n",
    " \\begin{pmatrix}\n",
    " 1 & 0 \\\\\n",
    " -\\frac{1}{f} & 1\n",
    " \\end{pmatrix}\n",
    " \\begin{pmatrix}\n",
    " y_1 \\\\\n",
    " \\theta_1\n",
    " \\end{pmatrix}\n",
    " \\end{align}"
   ]
  },
  {
   "cell_type": "code",
   "execution_count": 37,
   "metadata": {
    "collapsed": true
   },
   "outputs": [],
   "source": [
    "def refracConvex(y1, th1, focus):\n",
    "    y2 = y1\n",
    "    th2 = - y1 / focus + th1\n",
    "    return y2, th2"
   ]
  },
  {
   "cell_type": "code",
   "execution_count": null,
   "metadata": {
    "collapsed": true
   },
   "outputs": [],
   "source": []
  },
  {
   "cell_type": "code",
   "execution_count": 38,
   "metadata": {
    "collapsed": false
   },
   "outputs": [
    {
     "data": {
      "text/plain": [
       "CompletedProcess(args=['jupyter', 'nbconvert', '--to', 'python', 'RayMatrix.ipynb'], returncode=0)"
      ]
     },
     "execution_count": 38,
     "metadata": {},
     "output_type": "execute_result"
    }
   ],
   "source": [
    "# pyで保存。\n",
    "import subprocess\n",
    "subprocess.run(['jupyter', 'nbconvert', '--to', 'python', 'RayMatrix.ipynb'])"
   ]
  },
  {
   "cell_type": "code",
   "execution_count": null,
   "metadata": {
    "collapsed": true
   },
   "outputs": [],
   "source": []
  }
 ],
 "metadata": {
  "kernelspec": {
   "display_name": "Python 3",
   "language": "python",
   "name": "python3"
  },
  "language_info": {
   "codemirror_mode": {
    "name": "ipython",
    "version": 3
   },
   "file_extension": ".py",
   "mimetype": "text/x-python",
   "name": "python",
   "nbconvert_exporter": "python",
   "pygments_lexer": "ipython3",
   "version": "3.6.0"
  }
 },
 "nbformat": 4,
 "nbformat_minor": 2
}
